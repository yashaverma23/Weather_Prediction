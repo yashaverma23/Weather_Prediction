{
 "cells": [
  {
   "cell_type": "markdown",
   "id": "9ddd6977-5b73-435f-bf92-b7c470ff00ea",
   "metadata": {},
   "source": [
    "# Weather Prediction System"
   ]
  },
  {
   "cell_type": "markdown",
   "id": "28190daf-bf1c-4a61-98fa-2f436a958dd6",
   "metadata": {},
   "source": [
    "Dataset Source :\n",
    "https://www.kaggle.com/datasets/sanamps/weatherpredictionindelhi"
   ]
  },
  {
   "cell_type": "raw",
   "id": "3bb8c501-b66c-430d-8bb7-2cbc7e34eaa2",
   "metadata": {},
   "source": [
    "# Check Points of the Project\n",
    "1. Knowing the Datasert\n",
    "2. Missing Values Treatement\n",
    "3. EDA (Exploratory Data Analysis)\n",
    "4. Handling Categorical Features\n",
    "5. Target Col treatement\n",
    "6. Spliting data into x and y\n",
    "7. Train Test Split\n",
    "8. Model Building\n",
    "    M1.LogisticRegression\n",
    "    M2.Decision Tree Classifier\n",
    "    M3.Random Forest Classifier"
   ]
  },
  {
   "cell_type": "markdown",
   "id": "f49528f8-38f5-456c-b666-3f645cd89f5f",
   "metadata": {},
   "source": [
    "# 1.Knowing the Dataset"
   ]
  },
  {
   "cell_type": "code",
   "execution_count": 1,
   "id": "aee2c61a-207b-436c-96cc-8b5521f5157b",
   "metadata": {},
   "outputs": [],
   "source": [
    "# Importing libraries for the Project\n",
    "import numpy as np\n",
    "import pandas as pd\n",
    "import matplotlib.pyplot as plt\n",
    "import seaborn as sns\n",
    "import warnings\n",
    "warnings.filterwarnings('ignore')"
   ]
  },
  {
   "cell_type": "code",
   "execution_count": 2,
   "id": "14cda047-2107-49ab-9566-a6d54284277b",
   "metadata": {},
   "outputs": [
    {
     "data": {
      "text/html": [
       "<div>\n",
       "<style scoped>\n",
       "    .dataframe tbody tr th:only-of-type {\n",
       "        vertical-align: middle;\n",
       "    }\n",
       "\n",
       "    .dataframe tbody tr th {\n",
       "        vertical-align: top;\n",
       "    }\n",
       "\n",
       "    .dataframe thead th {\n",
       "        text-align: right;\n",
       "    }\n",
       "</style>\n",
       "<table border=\"1\" class=\"dataframe\">\n",
       "  <thead>\n",
       "    <tr style=\"text-align: right;\">\n",
       "      <th></th>\n",
       "      <th>datetime_utc</th>\n",
       "      <th>_conds</th>\n",
       "      <th>_dewptm</th>\n",
       "      <th>_fog</th>\n",
       "      <th>_hail</th>\n",
       "      <th>_heatindexm</th>\n",
       "      <th>_hum</th>\n",
       "      <th>_precipm</th>\n",
       "      <th>_pressurem</th>\n",
       "      <th>_rain</th>\n",
       "      <th>_snow</th>\n",
       "      <th>_tempm</th>\n",
       "      <th>_thunder</th>\n",
       "      <th>_tornado</th>\n",
       "      <th>_vism</th>\n",
       "      <th>_wdird</th>\n",
       "      <th>_wdire</th>\n",
       "      <th>_wgustm</th>\n",
       "      <th>_windchillm</th>\n",
       "      <th>_wspdm</th>\n",
       "    </tr>\n",
       "  </thead>\n",
       "  <tbody>\n",
       "    <tr>\n",
       "      <th>0</th>\n",
       "      <td>19961101-11:00</td>\n",
       "      <td>Smoke</td>\n",
       "      <td>9.0</td>\n",
       "      <td>0</td>\n",
       "      <td>0</td>\n",
       "      <td>NaN</td>\n",
       "      <td>27.0</td>\n",
       "      <td>NaN</td>\n",
       "      <td>1010.0</td>\n",
       "      <td>0</td>\n",
       "      <td>0</td>\n",
       "      <td>30.0</td>\n",
       "      <td>0</td>\n",
       "      <td>0</td>\n",
       "      <td>5.0</td>\n",
       "      <td>280.0</td>\n",
       "      <td>West</td>\n",
       "      <td>NaN</td>\n",
       "      <td>NaN</td>\n",
       "      <td>7.4</td>\n",
       "    </tr>\n",
       "    <tr>\n",
       "      <th>1</th>\n",
       "      <td>19961101-12:00</td>\n",
       "      <td>Smoke</td>\n",
       "      <td>10.0</td>\n",
       "      <td>0</td>\n",
       "      <td>0</td>\n",
       "      <td>NaN</td>\n",
       "      <td>32.0</td>\n",
       "      <td>NaN</td>\n",
       "      <td>-9999.0</td>\n",
       "      <td>0</td>\n",
       "      <td>0</td>\n",
       "      <td>28.0</td>\n",
       "      <td>0</td>\n",
       "      <td>0</td>\n",
       "      <td>NaN</td>\n",
       "      <td>0.0</td>\n",
       "      <td>North</td>\n",
       "      <td>NaN</td>\n",
       "      <td>NaN</td>\n",
       "      <td>NaN</td>\n",
       "    </tr>\n",
       "    <tr>\n",
       "      <th>2</th>\n",
       "      <td>19961101-13:00</td>\n",
       "      <td>Smoke</td>\n",
       "      <td>11.0</td>\n",
       "      <td>0</td>\n",
       "      <td>0</td>\n",
       "      <td>NaN</td>\n",
       "      <td>44.0</td>\n",
       "      <td>NaN</td>\n",
       "      <td>-9999.0</td>\n",
       "      <td>0</td>\n",
       "      <td>0</td>\n",
       "      <td>24.0</td>\n",
       "      <td>0</td>\n",
       "      <td>0</td>\n",
       "      <td>NaN</td>\n",
       "      <td>0.0</td>\n",
       "      <td>North</td>\n",
       "      <td>NaN</td>\n",
       "      <td>NaN</td>\n",
       "      <td>NaN</td>\n",
       "    </tr>\n",
       "    <tr>\n",
       "      <th>3</th>\n",
       "      <td>19961101-14:00</td>\n",
       "      <td>Smoke</td>\n",
       "      <td>10.0</td>\n",
       "      <td>0</td>\n",
       "      <td>0</td>\n",
       "      <td>NaN</td>\n",
       "      <td>41.0</td>\n",
       "      <td>NaN</td>\n",
       "      <td>1010.0</td>\n",
       "      <td>0</td>\n",
       "      <td>0</td>\n",
       "      <td>24.0</td>\n",
       "      <td>0</td>\n",
       "      <td>0</td>\n",
       "      <td>2.0</td>\n",
       "      <td>0.0</td>\n",
       "      <td>North</td>\n",
       "      <td>NaN</td>\n",
       "      <td>NaN</td>\n",
       "      <td>NaN</td>\n",
       "    </tr>\n",
       "    <tr>\n",
       "      <th>4</th>\n",
       "      <td>19961101-16:00</td>\n",
       "      <td>Smoke</td>\n",
       "      <td>11.0</td>\n",
       "      <td>0</td>\n",
       "      <td>0</td>\n",
       "      <td>NaN</td>\n",
       "      <td>47.0</td>\n",
       "      <td>NaN</td>\n",
       "      <td>1011.0</td>\n",
       "      <td>0</td>\n",
       "      <td>0</td>\n",
       "      <td>23.0</td>\n",
       "      <td>0</td>\n",
       "      <td>0</td>\n",
       "      <td>1.2</td>\n",
       "      <td>0.0</td>\n",
       "      <td>North</td>\n",
       "      <td>NaN</td>\n",
       "      <td>NaN</td>\n",
       "      <td>0.0</td>\n",
       "    </tr>\n",
       "  </tbody>\n",
       "</table>\n",
       "</div>"
      ],
      "text/plain": [
       "     datetime_utc  _conds   _dewptm   _fog   _hail   _heatindexm   _hum  \\\n",
       "0  19961101-11:00   Smoke       9.0      0       0           NaN   27.0   \n",
       "1  19961101-12:00   Smoke      10.0      0       0           NaN   32.0   \n",
       "2  19961101-13:00   Smoke      11.0      0       0           NaN   44.0   \n",
       "3  19961101-14:00   Smoke      10.0      0       0           NaN   41.0   \n",
       "4  19961101-16:00   Smoke      11.0      0       0           NaN   47.0   \n",
       "\n",
       "    _precipm   _pressurem   _rain   _snow   _tempm   _thunder   _tornado  \\\n",
       "0        NaN       1010.0       0       0     30.0          0          0   \n",
       "1        NaN      -9999.0       0       0     28.0          0          0   \n",
       "2        NaN      -9999.0       0       0     24.0          0          0   \n",
       "3        NaN       1010.0       0       0     24.0          0          0   \n",
       "4        NaN       1011.0       0       0     23.0          0          0   \n",
       "\n",
       "    _vism   _wdird  _wdire   _wgustm   _windchillm   _wspdm  \n",
       "0     5.0    280.0    West       NaN           NaN      7.4  \n",
       "1     NaN      0.0   North       NaN           NaN      NaN  \n",
       "2     NaN      0.0   North       NaN           NaN      NaN  \n",
       "3     2.0      0.0   North       NaN           NaN      NaN  \n",
       "4     1.2      0.0   North       NaN           NaN      0.0  "
      ]
     },
     "execution_count": 2,
     "metadata": {},
     "output_type": "execute_result"
    }
   ],
   "source": [
    "df = pd.read_csv('weather delhi.csv')\n",
    "df.head()"
   ]
  },
  {
   "cell_type": "code",
   "execution_count": 3,
   "id": "0791d689-218f-4a1b-a9a1-a313f104ed1f",
   "metadata": {},
   "outputs": [
    {
     "data": {
      "text/html": [
       "<div>\n",
       "<style scoped>\n",
       "    .dataframe tbody tr th:only-of-type {\n",
       "        vertical-align: middle;\n",
       "    }\n",
       "\n",
       "    .dataframe tbody tr th {\n",
       "        vertical-align: top;\n",
       "    }\n",
       "\n",
       "    .dataframe thead th {\n",
       "        text-align: right;\n",
       "    }\n",
       "</style>\n",
       "<table border=\"1\" class=\"dataframe\">\n",
       "  <thead>\n",
       "    <tr style=\"text-align: right;\">\n",
       "      <th></th>\n",
       "      <th>_dewptm</th>\n",
       "      <th>_fog</th>\n",
       "      <th>_hail</th>\n",
       "      <th>_heatindexm</th>\n",
       "      <th>_hum</th>\n",
       "      <th>_precipm</th>\n",
       "      <th>_pressurem</th>\n",
       "      <th>_rain</th>\n",
       "      <th>_snow</th>\n",
       "      <th>_tempm</th>\n",
       "      <th>_thunder</th>\n",
       "      <th>_tornado</th>\n",
       "      <th>_vism</th>\n",
       "      <th>_wdird</th>\n",
       "      <th>_wgustm</th>\n",
       "      <th>_windchillm</th>\n",
       "      <th>_wspdm</th>\n",
       "    </tr>\n",
       "  </thead>\n",
       "  <tbody>\n",
       "    <tr>\n",
       "      <th>count</th>\n",
       "      <td>100369.000000</td>\n",
       "      <td>100990.000000</td>\n",
       "      <td>100990.000000</td>\n",
       "      <td>29155.000000</td>\n",
       "      <td>100233.000000</td>\n",
       "      <td>0.0</td>\n",
       "      <td>1.007580e+05</td>\n",
       "      <td>100990.000000</td>\n",
       "      <td>100990.000000</td>\n",
       "      <td>100317.000000</td>\n",
       "      <td>100990.000000</td>\n",
       "      <td>100990.00000</td>\n",
       "      <td>96562.000000</td>\n",
       "      <td>86235.000000</td>\n",
       "      <td>1072.000000</td>\n",
       "      <td>579.000000</td>\n",
       "      <td>98632.000000</td>\n",
       "    </tr>\n",
       "    <tr>\n",
       "      <th>mean</th>\n",
       "      <td>15.741205</td>\n",
       "      <td>0.069690</td>\n",
       "      <td>0.000129</td>\n",
       "      <td>35.651710</td>\n",
       "      <td>57.909481</td>\n",
       "      <td>NaN</td>\n",
       "      <td>1.932331e+03</td>\n",
       "      <td>0.026260</td>\n",
       "      <td>0.000010</td>\n",
       "      <td>25.451269</td>\n",
       "      <td>0.009427</td>\n",
       "      <td>0.00002</td>\n",
       "      <td>2.402774</td>\n",
       "      <td>163.549974</td>\n",
       "      <td>37.671175</td>\n",
       "      <td>5.713817</td>\n",
       "      <td>7.678463</td>\n",
       "    </tr>\n",
       "    <tr>\n",
       "      <th>std</th>\n",
       "      <td>7.058587</td>\n",
       "      <td>0.254625</td>\n",
       "      <td>0.011345</td>\n",
       "      <td>5.015384</td>\n",
       "      <td>23.807771</td>\n",
       "      <td>NaN</td>\n",
       "      <td>3.183786e+05</td>\n",
       "      <td>0.159908</td>\n",
       "      <td>0.003147</td>\n",
       "      <td>8.482859</td>\n",
       "      <td>0.096633</td>\n",
       "      <td>0.00445</td>\n",
       "      <td>20.746028</td>\n",
       "      <td>120.002076</td>\n",
       "      <td>6.848666</td>\n",
       "      <td>1.203290</td>\n",
       "      <td>11.932157</td>\n",
       "    </tr>\n",
       "    <tr>\n",
       "      <th>min</th>\n",
       "      <td>-24.000000</td>\n",
       "      <td>0.000000</td>\n",
       "      <td>0.000000</td>\n",
       "      <td>26.800000</td>\n",
       "      <td>4.000000</td>\n",
       "      <td>NaN</td>\n",
       "      <td>-9.999000e+03</td>\n",
       "      <td>0.000000</td>\n",
       "      <td>0.000000</td>\n",
       "      <td>1.000000</td>\n",
       "      <td>0.000000</td>\n",
       "      <td>0.00000</td>\n",
       "      <td>0.000000</td>\n",
       "      <td>0.000000</td>\n",
       "      <td>25.900000</td>\n",
       "      <td>2.100000</td>\n",
       "      <td>0.000000</td>\n",
       "    </tr>\n",
       "    <tr>\n",
       "      <th>25%</th>\n",
       "      <td>10.000000</td>\n",
       "      <td>0.000000</td>\n",
       "      <td>0.000000</td>\n",
       "      <td>31.700000</td>\n",
       "      <td>39.000000</td>\n",
       "      <td>NaN</td>\n",
       "      <td>1.002000e+03</td>\n",
       "      <td>0.000000</td>\n",
       "      <td>0.000000</td>\n",
       "      <td>19.000000</td>\n",
       "      <td>0.000000</td>\n",
       "      <td>0.00000</td>\n",
       "      <td>1.500000</td>\n",
       "      <td>50.000000</td>\n",
       "      <td>33.300000</td>\n",
       "      <td>4.900000</td>\n",
       "      <td>0.000000</td>\n",
       "    </tr>\n",
       "    <tr>\n",
       "      <th>50%</th>\n",
       "      <td>15.000000</td>\n",
       "      <td>0.000000</td>\n",
       "      <td>0.000000</td>\n",
       "      <td>35.100000</td>\n",
       "      <td>59.000000</td>\n",
       "      <td>NaN</td>\n",
       "      <td>1.008000e+03</td>\n",
       "      <td>0.000000</td>\n",
       "      <td>0.000000</td>\n",
       "      <td>27.000000</td>\n",
       "      <td>0.000000</td>\n",
       "      <td>0.00000</td>\n",
       "      <td>2.000000</td>\n",
       "      <td>160.000000</td>\n",
       "      <td>37.000000</td>\n",
       "      <td>6.100000</td>\n",
       "      <td>7.400000</td>\n",
       "    </tr>\n",
       "    <tr>\n",
       "      <th>75%</th>\n",
       "      <td>22.000000</td>\n",
       "      <td>0.000000</td>\n",
       "      <td>0.000000</td>\n",
       "      <td>39.200000</td>\n",
       "      <td>78.000000</td>\n",
       "      <td>NaN</td>\n",
       "      <td>1.014000e+03</td>\n",
       "      <td>0.000000</td>\n",
       "      <td>0.000000</td>\n",
       "      <td>32.000000</td>\n",
       "      <td>0.000000</td>\n",
       "      <td>0.00000</td>\n",
       "      <td>3.000000</td>\n",
       "      <td>270.000000</td>\n",
       "      <td>40.700000</td>\n",
       "      <td>6.800000</td>\n",
       "      <td>11.100000</td>\n",
       "    </tr>\n",
       "    <tr>\n",
       "      <th>max</th>\n",
       "      <td>75.000000</td>\n",
       "      <td>1.000000</td>\n",
       "      <td>1.000000</td>\n",
       "      <td>73.600000</td>\n",
       "      <td>243.000000</td>\n",
       "      <td>NaN</td>\n",
       "      <td>1.010614e+08</td>\n",
       "      <td>1.000000</td>\n",
       "      <td>1.000000</td>\n",
       "      <td>90.000000</td>\n",
       "      <td>1.000000</td>\n",
       "      <td>1.00000</td>\n",
       "      <td>6436.000000</td>\n",
       "      <td>960.000000</td>\n",
       "      <td>92.600000</td>\n",
       "      <td>7.300000</td>\n",
       "      <td>1514.900000</td>\n",
       "    </tr>\n",
       "  </tbody>\n",
       "</table>\n",
       "</div>"
      ],
      "text/plain": [
       "             _dewptm           _fog          _hail   _heatindexm  \\\n",
       "count  100369.000000  100990.000000  100990.000000  29155.000000   \n",
       "mean       15.741205       0.069690       0.000129     35.651710   \n",
       "std         7.058587       0.254625       0.011345      5.015384   \n",
       "min       -24.000000       0.000000       0.000000     26.800000   \n",
       "25%        10.000000       0.000000       0.000000     31.700000   \n",
       "50%        15.000000       0.000000       0.000000     35.100000   \n",
       "75%        22.000000       0.000000       0.000000     39.200000   \n",
       "max        75.000000       1.000000       1.000000     73.600000   \n",
       "\n",
       "                _hum   _precipm    _pressurem          _rain          _snow  \\\n",
       "count  100233.000000        0.0  1.007580e+05  100990.000000  100990.000000   \n",
       "mean       57.909481        NaN  1.932331e+03       0.026260       0.000010   \n",
       "std        23.807771        NaN  3.183786e+05       0.159908       0.003147   \n",
       "min         4.000000        NaN -9.999000e+03       0.000000       0.000000   \n",
       "25%        39.000000        NaN  1.002000e+03       0.000000       0.000000   \n",
       "50%        59.000000        NaN  1.008000e+03       0.000000       0.000000   \n",
       "75%        78.000000        NaN  1.014000e+03       0.000000       0.000000   \n",
       "max       243.000000        NaN  1.010614e+08       1.000000       1.000000   \n",
       "\n",
       "              _tempm       _thunder      _tornado         _vism        _wdird  \\\n",
       "count  100317.000000  100990.000000  100990.00000  96562.000000  86235.000000   \n",
       "mean       25.451269       0.009427       0.00002      2.402774    163.549974   \n",
       "std         8.482859       0.096633       0.00445     20.746028    120.002076   \n",
       "min         1.000000       0.000000       0.00000      0.000000      0.000000   \n",
       "25%        19.000000       0.000000       0.00000      1.500000     50.000000   \n",
       "50%        27.000000       0.000000       0.00000      2.000000    160.000000   \n",
       "75%        32.000000       0.000000       0.00000      3.000000    270.000000   \n",
       "max        90.000000       1.000000       1.00000   6436.000000    960.000000   \n",
       "\n",
       "           _wgustm   _windchillm        _wspdm  \n",
       "count  1072.000000    579.000000  98632.000000  \n",
       "mean     37.671175      5.713817      7.678463  \n",
       "std       6.848666      1.203290     11.932157  \n",
       "min      25.900000      2.100000      0.000000  \n",
       "25%      33.300000      4.900000      0.000000  \n",
       "50%      37.000000      6.100000      7.400000  \n",
       "75%      40.700000      6.800000     11.100000  \n",
       "max      92.600000      7.300000   1514.900000  "
      ]
     },
     "execution_count": 3,
     "metadata": {},
     "output_type": "execute_result"
    }
   ],
   "source": [
    "df.describe()"
   ]
  },
  {
   "cell_type": "code",
   "execution_count": 4,
   "id": "02c357ba-303c-4bd7-838f-17ceaaeebe0c",
   "metadata": {},
   "outputs": [
    {
     "name": "stdout",
     "output_type": "stream",
     "text": [
      "<class 'pandas.core.frame.DataFrame'>\n",
      "RangeIndex: 100990 entries, 0 to 100989\n",
      "Data columns (total 20 columns):\n",
      " #   Column        Non-Null Count   Dtype  \n",
      "---  ------        --------------   -----  \n",
      " 0   datetime_utc  100990 non-null  object \n",
      " 1    _conds       100918 non-null  object \n",
      " 2    _dewptm      100369 non-null  float64\n",
      " 3    _fog         100990 non-null  int64  \n",
      " 4    _hail        100990 non-null  int64  \n",
      " 5    _heatindexm  29155 non-null   float64\n",
      " 6    _hum         100233 non-null  float64\n",
      " 7    _precipm     0 non-null       float64\n",
      " 8    _pressurem   100758 non-null  float64\n",
      " 9    _rain        100990 non-null  int64  \n",
      " 10   _snow        100990 non-null  int64  \n",
      " 11   _tempm       100317 non-null  float64\n",
      " 12   _thunder     100990 non-null  int64  \n",
      " 13   _tornado     100990 non-null  int64  \n",
      " 14   _vism        96562 non-null   float64\n",
      " 15   _wdird       86235 non-null   float64\n",
      " 16   _wdire       86235 non-null   object \n",
      " 17   _wgustm      1072 non-null    float64\n",
      " 18   _windchillm  579 non-null     float64\n",
      " 19   _wspdm       98632 non-null   float64\n",
      "dtypes: float64(11), int64(6), object(3)\n",
      "memory usage: 15.4+ MB\n"
     ]
    }
   ],
   "source": [
    "df.info()"
   ]
  },
  {
   "cell_type": "code",
   "execution_count": 5,
   "id": "d469a606-66a7-4223-aa91-9a5d91701730",
   "metadata": {},
   "outputs": [
    {
     "data": {
      "text/plain": [
       "datetime_utc     object\n",
       " _conds          object\n",
       " _dewptm        float64\n",
       " _fog             int64\n",
       " _hail            int64\n",
       " _heatindexm    float64\n",
       " _hum           float64\n",
       " _precipm       float64\n",
       " _pressurem     float64\n",
       " _rain            int64\n",
       " _snow            int64\n",
       " _tempm         float64\n",
       " _thunder         int64\n",
       " _tornado         int64\n",
       " _vism          float64\n",
       " _wdird         float64\n",
       " _wdire          object\n",
       " _wgustm        float64\n",
       " _windchillm    float64\n",
       " _wspdm         float64\n",
       "dtype: object"
      ]
     },
     "execution_count": 5,
     "metadata": {},
     "output_type": "execute_result"
    }
   ],
   "source": [
    "df.dtypes"
   ]
  },
  {
   "cell_type": "code",
   "execution_count": 6,
   "id": "85e77998-c85e-47db-bfa9-2594cbad45e4",
   "metadata": {},
   "outputs": [
    {
     "data": {
      "text/plain": [
       "Index(['datetime_utc', ' _conds', ' _dewptm', ' _fog', ' _hail',\n",
       "       ' _heatindexm', ' _hum', ' _precipm', ' _pressurem', ' _rain', ' _snow',\n",
       "       ' _tempm', ' _thunder', ' _tornado', ' _vism', ' _wdird', ' _wdire',\n",
       "       ' _wgustm', ' _windchillm', ' _wspdm'],\n",
       "      dtype='object')"
      ]
     },
     "execution_count": 6,
     "metadata": {},
     "output_type": "execute_result"
    }
   ],
   "source": [
    "df.columns"
   ]
  },
  {
   "cell_type": "code",
   "execution_count": 7,
   "id": "297f5ffd-4516-4415-afde-c2e23eaa1739",
   "metadata": {},
   "outputs": [
    {
     "data": {
      "text/html": [
       "<div>\n",
       "<style scoped>\n",
       "    .dataframe tbody tr th:only-of-type {\n",
       "        vertical-align: middle;\n",
       "    }\n",
       "\n",
       "    .dataframe tbody tr th {\n",
       "        vertical-align: top;\n",
       "    }\n",
       "\n",
       "    .dataframe thead th {\n",
       "        text-align: right;\n",
       "    }\n",
       "</style>\n",
       "<table border=\"1\" class=\"dataframe\">\n",
       "  <thead>\n",
       "    <tr style=\"text-align: right;\">\n",
       "      <th></th>\n",
       "      <th>datetime_utc</th>\n",
       "      <th>_conds</th>\n",
       "      <th>_dewptm</th>\n",
       "      <th>_fog</th>\n",
       "      <th>_hail</th>\n",
       "      <th>_heatindexm</th>\n",
       "      <th>_hum</th>\n",
       "      <th>_precipm</th>\n",
       "      <th>_pressurem</th>\n",
       "      <th>_rain</th>\n",
       "      <th>_snow</th>\n",
       "      <th>_tempm</th>\n",
       "      <th>_thunder</th>\n",
       "      <th>_tornado</th>\n",
       "      <th>_vism</th>\n",
       "      <th>_wdird</th>\n",
       "      <th>_wdire</th>\n",
       "      <th>_wgustm</th>\n",
       "      <th>_windchillm</th>\n",
       "      <th>_wspdm</th>\n",
       "    </tr>\n",
       "  </thead>\n",
       "  <tbody>\n",
       "    <tr>\n",
       "      <th>100985</th>\n",
       "      <td>20170424-06:00</td>\n",
       "      <td>Haze</td>\n",
       "      <td>17.0</td>\n",
       "      <td>0</td>\n",
       "      <td>0</td>\n",
       "      <td>NaN</td>\n",
       "      <td>25.0</td>\n",
       "      <td>NaN</td>\n",
       "      <td>1005.0</td>\n",
       "      <td>0</td>\n",
       "      <td>0</td>\n",
       "      <td>34.0</td>\n",
       "      <td>0</td>\n",
       "      <td>0</td>\n",
       "      <td>4.0</td>\n",
       "      <td>320.0</td>\n",
       "      <td>NW</td>\n",
       "      <td>NaN</td>\n",
       "      <td>NaN</td>\n",
       "      <td>11.1</td>\n",
       "    </tr>\n",
       "    <tr>\n",
       "      <th>100986</th>\n",
       "      <td>20170424-09:00</td>\n",
       "      <td>Haze</td>\n",
       "      <td>14.0</td>\n",
       "      <td>0</td>\n",
       "      <td>0</td>\n",
       "      <td>NaN</td>\n",
       "      <td>16.0</td>\n",
       "      <td>NaN</td>\n",
       "      <td>1003.0</td>\n",
       "      <td>0</td>\n",
       "      <td>0</td>\n",
       "      <td>38.0</td>\n",
       "      <td>0</td>\n",
       "      <td>0</td>\n",
       "      <td>4.0</td>\n",
       "      <td>320.0</td>\n",
       "      <td>NW</td>\n",
       "      <td>NaN</td>\n",
       "      <td>NaN</td>\n",
       "      <td>22.2</td>\n",
       "    </tr>\n",
       "    <tr>\n",
       "      <th>100987</th>\n",
       "      <td>20170424-12:00</td>\n",
       "      <td>Haze</td>\n",
       "      <td>12.0</td>\n",
       "      <td>0</td>\n",
       "      <td>0</td>\n",
       "      <td>NaN</td>\n",
       "      <td>14.0</td>\n",
       "      <td>NaN</td>\n",
       "      <td>1002.0</td>\n",
       "      <td>0</td>\n",
       "      <td>0</td>\n",
       "      <td>36.0</td>\n",
       "      <td>0</td>\n",
       "      <td>0</td>\n",
       "      <td>4.0</td>\n",
       "      <td>270.0</td>\n",
       "      <td>West</td>\n",
       "      <td>NaN</td>\n",
       "      <td>NaN</td>\n",
       "      <td>18.5</td>\n",
       "    </tr>\n",
       "    <tr>\n",
       "      <th>100988</th>\n",
       "      <td>20170424-15:00</td>\n",
       "      <td>Haze</td>\n",
       "      <td>15.0</td>\n",
       "      <td>0</td>\n",
       "      <td>0</td>\n",
       "      <td>NaN</td>\n",
       "      <td>27.0</td>\n",
       "      <td>NaN</td>\n",
       "      <td>1004.0</td>\n",
       "      <td>0</td>\n",
       "      <td>0</td>\n",
       "      <td>32.0</td>\n",
       "      <td>0</td>\n",
       "      <td>0</td>\n",
       "      <td>2.0</td>\n",
       "      <td>320.0</td>\n",
       "      <td>NW</td>\n",
       "      <td>NaN</td>\n",
       "      <td>NaN</td>\n",
       "      <td>3.7</td>\n",
       "    </tr>\n",
       "    <tr>\n",
       "      <th>100989</th>\n",
       "      <td>20170424-18:00</td>\n",
       "      <td>Haze</td>\n",
       "      <td>15.0</td>\n",
       "      <td>0</td>\n",
       "      <td>0</td>\n",
       "      <td>NaN</td>\n",
       "      <td>30.0</td>\n",
       "      <td>NaN</td>\n",
       "      <td>1005.0</td>\n",
       "      <td>0</td>\n",
       "      <td>0</td>\n",
       "      <td>30.0</td>\n",
       "      <td>0</td>\n",
       "      <td>0</td>\n",
       "      <td>2.0</td>\n",
       "      <td>320.0</td>\n",
       "      <td>NW</td>\n",
       "      <td>NaN</td>\n",
       "      <td>NaN</td>\n",
       "      <td>3.7</td>\n",
       "    </tr>\n",
       "  </tbody>\n",
       "</table>\n",
       "</div>"
      ],
      "text/plain": [
       "          datetime_utc  _conds   _dewptm   _fog   _hail   _heatindexm   _hum  \\\n",
       "100985  20170424-06:00    Haze      17.0      0       0           NaN   25.0   \n",
       "100986  20170424-09:00    Haze      14.0      0       0           NaN   16.0   \n",
       "100987  20170424-12:00    Haze      12.0      0       0           NaN   14.0   \n",
       "100988  20170424-15:00    Haze      15.0      0       0           NaN   27.0   \n",
       "100989  20170424-18:00    Haze      15.0      0       0           NaN   30.0   \n",
       "\n",
       "         _precipm   _pressurem   _rain   _snow   _tempm   _thunder   _tornado  \\\n",
       "100985        NaN       1005.0       0       0     34.0          0          0   \n",
       "100986        NaN       1003.0       0       0     38.0          0          0   \n",
       "100987        NaN       1002.0       0       0     36.0          0          0   \n",
       "100988        NaN       1004.0       0       0     32.0          0          0   \n",
       "100989        NaN       1005.0       0       0     30.0          0          0   \n",
       "\n",
       "         _vism   _wdird  _wdire   _wgustm   _windchillm   _wspdm  \n",
       "100985     4.0    320.0      NW       NaN           NaN     11.1  \n",
       "100986     4.0    320.0      NW       NaN           NaN     22.2  \n",
       "100987     4.0    270.0    West       NaN           NaN     18.5  \n",
       "100988     2.0    320.0      NW       NaN           NaN      3.7  \n",
       "100989     2.0    320.0      NW       NaN           NaN      3.7  "
      ]
     },
     "execution_count": 7,
     "metadata": {},
     "output_type": "execute_result"
    }
   ],
   "source": [
    "df.tail()"
   ]
  },
  {
   "cell_type": "code",
   "execution_count": 8,
   "id": "b2649d3d-c44c-4b79-afb2-cfb60e7e48fa",
   "metadata": {},
   "outputs": [],
   "source": [
    "df.columns=df.columns.str.strip()"
   ]
  },
  {
   "cell_type": "markdown",
   "id": "2ab237c2-4826-4657-9b88-cda1b0949d5b",
   "metadata": {},
   "source": [
    "# 2.Missing Values Treatement"
   ]
  },
  {
   "cell_type": "code",
   "execution_count": 9,
   "id": "d5b7dc00-db89-4e52-8e7b-195b7c87d296",
   "metadata": {},
   "outputs": [
    {
     "data": {
      "text/plain": [
       "datetime_utc      0.000000\n",
       "_conds            0.071294\n",
       "_dewptm           0.614912\n",
       "_fog              0.000000\n",
       "_hail             0.000000\n",
       "_heatindexm      71.130805\n",
       "_hum              0.749579\n",
       "_precipm        100.000000\n",
       "_pressurem        0.229726\n",
       "_rain             0.000000\n",
       "_snow             0.000000\n",
       "_tempm            0.666403\n",
       "_thunder          0.000000\n",
       "_tornado          0.000000\n",
       "_vism             4.384593\n",
       "_wdird           14.610357\n",
       "_wdire           14.610357\n",
       "_wgustm          98.938509\n",
       "_windchillm      99.426676\n",
       "_wspdm            2.334885\n",
       "dtype: float64"
      ]
     },
     "execution_count": 9,
     "metadata": {},
     "output_type": "execute_result"
    }
   ],
   "source": [
    "df.isnull().sum()/len(df)*100"
   ]
  },
  {
   "cell_type": "code",
   "execution_count": 10,
   "id": "19670dc6-16e0-424c-a6d6-f0d70fda019c",
   "metadata": {},
   "outputs": [
    {
     "data": {
      "text/plain": [
       "(100990, 20)"
      ]
     },
     "execution_count": 10,
     "metadata": {},
     "output_type": "execute_result"
    }
   ],
   "source": [
    "df.shape"
   ]
  },
  {
   "cell_type": "code",
   "execution_count": 11,
   "id": "d4f44079-5bdb-4492-bed0-6b390547c6cb",
   "metadata": {},
   "outputs": [
    {
     "data": {
      "text/plain": [
       "<AxesSubplot:>"
      ]
     },
     "execution_count": 11,
     "metadata": {},
     "output_type": "execute_result"
    },
    {
     "data": {
      "image/png": "[encoded data removed]",
      "text/plain": [
       "<Figure size 1080x576 with 2 Axes>"
      ]
     },
     "metadata": {
      "needs_background": "light"
     },
     "output_type": "display_data"
    }
   ],
   "source": [
    "#Hearmap to display or check NULL values of Columns of the Dataset\n",
    "plt.figure(figsize=(15,8))\n",
    "sns.heatmap(df.isnull())"
   ]
  },
  {
   "cell_type": "code",
   "execution_count": 12,
   "id": "57d3be39-4bf7-43be-ba93-197afd82f6cb",
   "metadata": {},
   "outputs": [
    {
     "data": {
      "text/plain": [
       "Index(['datetime_utc', '_conds', '_dewptm', '_fog', '_hail', '_heatindexm',\n",
       "       '_hum', '_precipm', '_pressurem', '_rain', '_snow', '_tempm',\n",
       "       '_thunder', '_tornado', '_vism', '_wdird', '_wdire', '_wgustm',\n",
       "       '_windchillm', '_wspdm'],\n",
       "      dtype='object')"
      ]
     },
     "execution_count": 12,
     "metadata": {},
     "output_type": "execute_result"
    }
   ],
   "source": [
    "df.columns"
   ]
  },
  {
   "cell_type": "code",
   "execution_count": 13,
   "id": "b0c478c3-0090-4bd1-94e9-99287e91d4a8",
   "metadata": {},
   "outputs": [],
   "source": [
    "df.drop(['_heatindexm','_precipm','_wgustm','_windchillm'],axis=1,inplace=True)"
   ]
  },
  {
   "cell_type": "code",
   "execution_count": 14,
   "id": "153d1f7f-086d-4cb7-8d51-812a5a14ada6",
   "metadata": {},
   "outputs": [
    {
     "data": {
      "text/plain": [
       "Index(['datetime_utc', '_conds', '_dewptm', '_fog', '_hail', '_hum',\n",
       "       '_pressurem', '_rain', '_snow', '_tempm', '_thunder', '_tornado',\n",
       "       '_vism', '_wdird', '_wdire', '_wspdm'],\n",
       "      dtype='object')"
      ]
     },
     "execution_count": 14,
     "metadata": {},
     "output_type": "execute_result"
    }
   ],
   "source": [
    "df.columns"
   ]
  },
  {
   "cell_type": "code",
   "execution_count": 15,
   "id": "8adda903-22e5-48be-8e89-baa7baf97f8b",
   "metadata": {},
   "outputs": [
    {
     "data": {
      "text/plain": [
       "datetime_utc        0\n",
       "_conds             72\n",
       "_dewptm           621\n",
       "_fog                0\n",
       "_hail               0\n",
       "_hum              757\n",
       "_pressurem        232\n",
       "_rain               0\n",
       "_snow               0\n",
       "_tempm            673\n",
       "_thunder            0\n",
       "_tornado            0\n",
       "_vism            4428\n",
       "_wdird          14755\n",
       "_wdire          14755\n",
       "_wspdm           2358\n",
       "dtype: int64"
      ]
     },
     "execution_count": 15,
     "metadata": {},
     "output_type": "execute_result"
    }
   ],
   "source": [
    "df.isnull().sum()"
   ]
  },
  {
   "cell_type": "code",
   "execution_count": 16,
   "id": "32ca9df4-27c3-45c7-b73f-b1416c5ae5e3",
   "metadata": {},
   "outputs": [],
   "source": [
    "m_col=['_dewptm','_hum','_pressurem','_tempm','_vism','_wdird','_wspdm']"
   ]
  },
  {
   "cell_type": "code",
   "execution_count": 17,
   "id": "3e987de4-7243-4771-bc5f-4edb82b57cf9",
   "metadata": {},
   "outputs": [
    {
     "data": {
      "image/png": "[encoded data removed]",
      "text/plain": [
       "<Figure size 1080x720 with 7 Axes>"
      ]
     },
     "metadata": {
      "needs_background": "light"
     },
     "output_type": "display_data"
    }
   ],
   "source": [
    "#Distribution Graph of Columns having NULL values so we have replace the NULL values with mean,median or mode accordingly\n",
    "plt.figure(figsize=(15,10))\n",
    "for idx, col in enumerate(m_col):\n",
    "    plt.subplot(4,2,idx+1)\n",
    "    sns.distplot(df[col])"
   ]
  },
  {
   "cell_type": "code",
   "execution_count": 18,
   "id": "e58e1859-d4aa-474b-bfd3-9720392d0be9",
   "metadata": {},
   "outputs": [],
   "source": [
    "for i in m_col:\n",
    "    df[i] = df[i].fillna(value=df[i].median())"
   ]
  },
  {
   "cell_type": "code",
   "execution_count": 19,
   "id": "55477e81-40b9-4af4-8015-cb49bf8eb419",
   "metadata": {},
   "outputs": [
    {
     "data": {
      "text/plain": [
       "datetime_utc        0\n",
       "_conds             72\n",
       "_dewptm             0\n",
       "_fog                0\n",
       "_hail               0\n",
       "_hum                0\n",
       "_pressurem          0\n",
       "_rain               0\n",
       "_snow               0\n",
       "_tempm              0\n",
       "_thunder            0\n",
       "_tornado            0\n",
       "_vism               0\n",
       "_wdird              0\n",
       "_wdire          14755\n",
       "_wspdm              0\n",
       "dtype: int64"
      ]
     },
     "execution_count": 19,
     "metadata": {},
     "output_type": "execute_result"
    }
   ],
   "source": [
    "df.isnull().sum()"
   ]
  },
  {
   "cell_type": "markdown",
   "id": "f03f91b3-3bdd-4054-a526-9d2796b0ccac",
   "metadata": {},
   "source": [
    "# 3.EDA (Exploratory Data Analysis)"
   ]
  },
  {
   "cell_type": "code",
   "execution_count": 20,
   "id": "5987a5af-59cc-43fa-8f63-bbfb58fbda27",
   "metadata": {},
   "outputs": [],
   "source": [
    "n_col=['_dewptm','_fog','_hail','_hum','_pressurem','_rain','_snow','_tempm','_thunder','_tornado','_vism','_wdird','_wspdm']"
   ]
  },
  {
   "cell_type": "code",
   "execution_count": 21,
   "id": "85910c6f-5fea-48ce-8e52-4d9309c70a4a",
   "metadata": {},
   "outputs": [
    {
     "data": {
      "image/png": "[encoded data removed]",
      "text/plain": [
       "<Figure size 1080x720 with 13 Axes>"
      ]
     },
     "metadata": {
      "needs_background": "light"
     },
     "output_type": "display_data"
    }
   ],
   "source": [
    "plt.figure(figsize=(15,10))\n",
    "for idx, col in enumerate(n_col):\n",
    "    plt.subplot(7,3,idx+1)\n",
    "    sns.distplot(df[col])"
   ]
  },
  {
   "cell_type": "code",
   "execution_count": 22,
   "id": "7bc81f88-a2ac-4f4e-b7d8-0c287b42e3a9",
   "metadata": {},
   "outputs": [
    {
     "data": {
      "text/plain": [
       "<AxesSubplot:>"
      ]
     },
     "execution_count": 22,
     "metadata": {},
     "output_type": "execute_result"
    },
    {
     "data": {
      "image/png": "[encoded data removed]",
      "text/plain": [
       "<Figure size 1080x576 with 2 Axes>"
      ]
     },
     "metadata": {
      "needs_background": "light"
     },
     "output_type": "display_data"
    }
   ],
   "source": [
    "#Co-relation Heatmap to check corelation between the columns if any \n",
    "plt.figure(figsize=(15,8))\n",
    "sns.heatmap(df.corr(),annot=True,cmap='summer')"
   ]
  },
  {
   "cell_type": "code",
   "execution_count": 23,
   "id": "06e5f745-e544-4f31-9f85-9288845659a3",
   "metadata": {},
   "outputs": [
    {
     "data": {
      "text/plain": [
       "<AxesSubplot:xlabel='_dewptm', ylabel='count'>"
      ]
     },
     "execution_count": 23,
     "metadata": {},
     "output_type": "execute_result"
    },
    {
     "data": {
      "image/png": "[encoded data removed]",
      "text/plain": [
       "<Figure size 1800x720 with 1 Axes>"
      ]
     },
     "metadata": {
      "needs_background": "light"
     },
     "output_type": "display_data"
    }
   ],
   "source": [
    "plt.figure(figsize=(25,10))\n",
    "sns.countplot(x='_dewptm',data=df)"
   ]
  },
  {
   "cell_type": "code",
   "execution_count": 24,
   "id": "04abb27b-7f26-4502-b413-d5eb936c33d8",
   "metadata": {},
   "outputs": [
    {
     "data": {
      "text/plain": [
       "Index(['datetime_utc', '_conds', '_dewptm', '_fog', '_hail', '_hum',\n",
       "       '_pressurem', '_rain', '_snow', '_tempm', '_thunder', '_tornado',\n",
       "       '_vism', '_wdird', '_wdire', '_wspdm'],\n",
       "      dtype='object')"
      ]
     },
     "execution_count": 24,
     "metadata": {},
     "output_type": "execute_result"
    }
   ],
   "source": [
    "df.columns"
   ]
  },
  {
   "cell_type": "code",
   "execution_count": 25,
   "id": "aaa8135f-f967-4313-8ce5-6a55a4114845",
   "metadata": {},
   "outputs": [
    {
     "data": {
      "text/plain": [
       "<AxesSubplot:xlabel='_tempm', ylabel='_hum'>"
      ]
     },
     "execution_count": 25,
     "metadata": {},
     "output_type": "execute_result"
    },
    {
     "data": {
      "image/png": "[encoded data removed]",
      "text/plain": [
       "<Figure size 1440x720 with 1 Axes>"
      ]
     },
     "metadata": {
      "needs_background": "light"
     },
     "output_type": "display_data"
    }
   ],
   "source": [
    "plt.figure(figsize=(20,10))\n",
    "sns.boxplot(x='_tempm',y='_hum',data=df)"
   ]
  },
  {
   "cell_type": "code",
   "execution_count": 26,
   "id": "d946097e-ca86-4aae-b7a6-0c4ac223bdf2",
   "metadata": {},
   "outputs": [
    {
     "data": {
      "image/png": "[encoded data removed]",
      "text/plain": [
       "<Figure size 1440x720 with 1 Axes>"
      ]
     },
     "metadata": {
      "needs_background": "light"
     },
     "output_type": "display_data"
    }
   ],
   "source": [
    "plt.figure(figsize=(20,10))\n",
    "plt.violinplot(df['_tempm'])\n",
    "plt.show()"
   ]
  },
  {
   "cell_type": "markdown",
   "id": "1782de0d-6434-4f0d-a934-a22ff6c36493",
   "metadata": {},
   "source": [
    "# 4.Handling Categorical Features"
   ]
  },
  {
   "cell_type": "code",
   "execution_count": 27,
   "id": "90893fb6-3b68-4586-afbc-592345c6c96f",
   "metadata": {},
   "outputs": [
    {
     "data": {
      "text/plain": [
       "datetime_utc     object\n",
       "_conds           object\n",
       "_dewptm         float64\n",
       "_fog              int64\n",
       "_hail             int64\n",
       "_hum            float64\n",
       "_pressurem      float64\n",
       "_rain             int64\n",
       "_snow             int64\n",
       "_tempm          float64\n",
       "_thunder          int64\n",
       "_tornado          int64\n",
       "_vism           float64\n",
       "_wdird          float64\n",
       "_wdire           object\n",
       "_wspdm          float64\n",
       "dtype: object"
      ]
     },
     "execution_count": 27,
     "metadata": {},
     "output_type": "execute_result"
    }
   ],
   "source": [
    "df.dtypes"
   ]
  },
  {
   "cell_type": "code",
   "execution_count": 28,
   "id": "196a9a9b-1678-4999-9a83-921ce986921e",
   "metadata": {},
   "outputs": [
    {
     "data": {
      "text/plain": [
       "datetime_utc        0\n",
       "_conds             72\n",
       "_dewptm             0\n",
       "_fog                0\n",
       "_hail               0\n",
       "_hum                0\n",
       "_pressurem          0\n",
       "_rain               0\n",
       "_snow               0\n",
       "_tempm              0\n",
       "_thunder            0\n",
       "_tornado            0\n",
       "_vism               0\n",
       "_wdird              0\n",
       "_wdire          14755\n",
       "_wspdm              0\n",
       "dtype: int64"
      ]
     },
     "execution_count": 28,
     "metadata": {},
     "output_type": "execute_result"
    }
   ],
   "source": [
    "df.isnull().sum()"
   ]
  },
  {
   "cell_type": "code",
   "execution_count": 29,
   "id": "06ca8374-dfa3-4fa2-bf89-9a9d5041b009",
   "metadata": {},
   "outputs": [
    {
     "data": {
      "text/plain": [
       "North       19034\n",
       "West        11888\n",
       "WNW          7464\n",
       "East         7233\n",
       "NW           7117\n",
       "WSW          5466\n",
       "ESE          5336\n",
       "ENE          3721\n",
       "SE           3513\n",
       "SW           3200\n",
       "NNW          2696\n",
       "NE           2500\n",
       "SSE          2052\n",
       "NNE          1752\n",
       "SSW          1715\n",
       "South        1543\n",
       "Variable        5\n",
       "Name: _wdire, dtype: int64"
      ]
     },
     "execution_count": 29,
     "metadata": {},
     "output_type": "execute_result"
    }
   ],
   "source": [
    "df['_wdire'].value_counts()"
   ]
  },
  {
   "cell_type": "code",
   "execution_count": 30,
   "id": "cd63b438-96aa-436a-99e5-a424da415ced",
   "metadata": {},
   "outputs": [],
   "source": [
    "df['_wdire'].replace(to_replace={'Variable':'North',np.nan:'North'},inplace=True)"
   ]
  },
  {
   "cell_type": "code",
   "execution_count": 31,
   "id": "f661e560-f09a-4196-80df-9ed7d70a481e",
   "metadata": {},
   "outputs": [
    {
     "data": {
      "text/plain": [
       "array(['West', 'North', 'SSW', 'WSW', 'NNE', 'SW', 'WNW', 'NW', 'SSE',\n",
       "       'East', 'ENE', 'ESE', 'SE', 'NE', 'NNW', 'South'], dtype=object)"
      ]
     },
     "execution_count": 31,
     "metadata": {},
     "output_type": "execute_result"
    }
   ],
   "source": [
    "df['_wdire'].unique()"
   ]
  },
  {
   "cell_type": "markdown",
   "id": "7e757cf5-d57f-4e75-b297-3766987a8e1e",
   "metadata": {},
   "source": [
    "# 5.Target Col treatement"
   ]
  },
  {
   "cell_type": "code",
   "execution_count": 32,
   "id": "cb8b4a3c-caaf-4013-825f-9d49c35d555e",
   "metadata": {},
   "outputs": [
    {
     "data": {
      "text/plain": [
       "Haze                             47602\n",
       "Smoke                            20760\n",
       "Mist                              9375\n",
       "Clear                             3129\n",
       "Widespread Dust                   2856\n",
       "Fog                               2760\n",
       "Scattered Clouds                  2209\n",
       "Partly Cloudy                     2091\n",
       "Shallow Fog                       1860\n",
       "Mostly Cloudy                     1537\n",
       "Light Rain                        1302\n",
       "Partial Fog                       1031\n",
       "Patches of Fog                     901\n",
       "Thunderstorms and Rain             486\n",
       "Heavy Fog                          421\n",
       "Light Drizzle                      414\n",
       "Rain                               394\n",
       "Unknown                            383\n",
       "Blowing Sand                       378\n",
       "Overcast                           326\n",
       "Thunderstorm                       192\n",
       "Light Thunderstorms and Rain       176\n",
       "Drizzle                            112\n",
       "Light Fog                           64\n",
       "Light Thunderstorm                  64\n",
       "Heavy Rain                          28\n",
       "Heavy Thunderstorms and Rain        22\n",
       "Thunderstorms with Hail             11\n",
       "Squalls                              6\n",
       "Light Sandstorm                      6\n",
       "Light Rain Showers                   5\n",
       "Light Haze                           4\n",
       "Volcanic Ash                         4\n",
       "Funnel Cloud                         2\n",
       "Sandstorm                            2\n",
       "Rain Showers                         2\n",
       "Heavy Thunderstorms with Hail        1\n",
       "Light Hail Showers                   1\n",
       "Light Freezing Rain                  1\n",
       "Name: _conds, dtype: int64"
      ]
     },
     "execution_count": 32,
     "metadata": {},
     "output_type": "execute_result"
    }
   ],
   "source": [
    "df['_conds'].value_counts()"
   ]
  },
  {
   "cell_type": "code",
   "execution_count": 33,
   "id": "32456e8b-a658-4a9a-9d5f-7a7962461299",
   "metadata": {},
   "outputs": [
    {
     "data": {
      "text/plain": [
       "39"
      ]
     },
     "execution_count": 33,
     "metadata": {},
     "output_type": "execute_result"
    }
   ],
   "source": [
    "df['_conds'].nunique()"
   ]
  },
  {
   "cell_type": "code",
   "execution_count": 34,
   "id": "11da438a-d151-4793-81ac-398f29a62b61",
   "metadata": {},
   "outputs": [],
   "source": [
    "##### sorting the target Colums to reduce the dataset #####\n",
    "# Haze = 'Haze','Light Haze'\n",
    "# Smoke = 'Smoke'\n",
    "# Mist = 'Mist'\n",
    "# Clear = 'Clear'\n",
    "# Widespread Dust = 'Widespread Dust' - sndy\n",
    "# Fog = 'Fog','Shallow Fog','Partial Fog','Patches of Fog','Heavy Fog','Light Fog'\n",
    "# Cloudy = 'Scattered Clouds','Partly Cloudy','Mostly Cloudy','Funnel Cloud'\n",
    "# Rain = 'Light Rain','Rain','Heavy Rain','Light Rain Showers','Rain Showers','Light Freezing Rain','Thunderstorms and Rain'\n",
    "# Drizzle = 'Light Drizzle','Drizzle'\n",
    "# Unknown = 'Unknown'\n",
    "# Sandy = 'Blowing Sand','Light Sandstorm','Sandstorm'\n",
    "# Overcast = 'Overcast' -cloudy\n",
    "# Thunderstorm = 'Thunderstorm','Light Thunderstorms and Rain','Light Thunderstorm','Heavy Thunderstorms and Rain','Heavy Thunderstorms with Hail'\n",
    "# Squalls = 'Squalls'\n",
    "# Volcanic Ash = 'Volcanic Ash' -sandy\n",
    "# Hail = 'Light Hail Showers','Thunderstorms with Hail'"
   ]
  },
  {
   "cell_type": "code",
   "execution_count": 35,
   "id": "96ef578f-f00c-48cb-b191-0e7d902944d1",
   "metadata": {},
   "outputs": [],
   "source": [
    "df['_conds'].replace(to_replace={'Haze':'Haze','Light Haze':'Haze'},inplace=True)"
   ]
  },
  {
   "cell_type": "code",
   "execution_count": 36,
   "id": "9fea93c9-3842-43af-90ed-6df2b0284c83",
   "metadata": {},
   "outputs": [],
   "source": [
    "df['_conds'].replace(to_replace={'Fog':'Fog','Shallow Fog':'Fog','Partial Fog':'Fog','Patches of Fog':'Fog','Heavy Fog':'Fog','Light Fog':'Fog'},inplace=True)\n",
    "df['_conds'].replace(to_replace={'Scattered Clouds':'Cloudy','Partly Cloudy':'Cloudy','Mostly Cloudy':'Cloudy','Funnel Cloud':'Cloudy'},inplace=True)\n",
    "df['_conds'].replace(to_replace={'Light Rain':'Rain','Rain':'Rain','Heavy Rain':'Rain','Light Rain Showers':'Rain','Rain Showers':'Rain','Light Freezing Rain':'Rain','Thunderstorms and Rain':'Rain'},inplace=True)\n",
    "df['_conds'].replace(to_replace={'Light Drizzle':'Drizzle','Drizzle':'Drizzle'},inplace=True)\n",
    "df['_conds'].replace(to_replace={'Blowing Sand':'Sandy','Light Sandstorm':'Sandy','Sandstorm':'Sandy'},inplace=True)\n",
    "df['_conds'].replace(to_replace={'Thunderstorm':'Thunderstorms','Light Thunderstorms and Rain':'Thunderstorms','Light Thunderstorm':'Thunderstorms','Heavy Thunderstorms and Rain':'Thunderstorms','Heavy Thunderstorms with Hail':'Thunderstorms'},inplace=True)\n",
    "df['_conds'].replace(to_replace={'Light Hail Showers':'Hail','Thunderstorms with Hail':'Hail'},inplace=True)"
   ]
  },
  {
   "cell_type": "code",
   "execution_count": 37,
   "id": "3a1f5287-d0cb-4673-95a9-382ca3d76db8",
   "metadata": {},
   "outputs": [
    {
     "data": {
      "text/plain": [
       "16"
      ]
     },
     "execution_count": 37,
     "metadata": {},
     "output_type": "execute_result"
    }
   ],
   "source": [
    "df['_conds'].nunique()"
   ]
  },
  {
   "cell_type": "code",
   "execution_count": 38,
   "id": "df7593e0-dc0c-4a24-90a1-4185dd2042b5",
   "metadata": {},
   "outputs": [
    {
     "data": {
      "text/plain": [
       "Haze               47606\n",
       "Smoke              20760\n",
       "Mist                9375\n",
       "Fog                 7037\n",
       "Cloudy              5839\n",
       "Clear               3129\n",
       "Widespread Dust     2856\n",
       "Rain                2218\n",
       "Drizzle              526\n",
       "Thunderstorms        455\n",
       "Sandy                386\n",
       "Unknown              383\n",
       "Overcast             326\n",
       "Hail                  12\n",
       "Squalls                6\n",
       "Volcanic Ash           4\n",
       "Name: _conds, dtype: int64"
      ]
     },
     "execution_count": 38,
     "metadata": {},
     "output_type": "execute_result"
    }
   ],
   "source": [
    "df['_conds'].value_counts()"
   ]
  },
  {
   "cell_type": "code",
   "execution_count": 39,
   "id": "b2302b11-3eb1-4480-ad4d-70ba225aba00",
   "metadata": {},
   "outputs": [],
   "source": [
    "df.dropna(inplace=True)"
   ]
  },
  {
   "cell_type": "code",
   "execution_count": 40,
   "id": "99da2935-76dd-4eb5-8d76-54e08dacd06e",
   "metadata": {},
   "outputs": [
    {
     "data": {
      "text/plain": [
       "datetime_utc    0\n",
       "_conds          0\n",
       "_dewptm         0\n",
       "_fog            0\n",
       "_hail           0\n",
       "_hum            0\n",
       "_pressurem      0\n",
       "_rain           0\n",
       "_snow           0\n",
       "_tempm          0\n",
       "_thunder        0\n",
       "_tornado        0\n",
       "_vism           0\n",
       "_wdird          0\n",
       "_wdire          0\n",
       "_wspdm          0\n",
       "dtype: int64"
      ]
     },
     "execution_count": 40,
     "metadata": {},
     "output_type": "execute_result"
    }
   ],
   "source": [
    "df.isnull().sum()"
   ]
  },
  {
   "cell_type": "code",
   "execution_count": 41,
   "id": "21aefe63-9521-45af-bf3f-c478c69e3e36",
   "metadata": {},
   "outputs": [],
   "source": [
    "df['datetime_utc']=pd.to_datetime(df['datetime_utc'])"
   ]
  },
  {
   "cell_type": "code",
   "execution_count": 42,
   "id": "efcfa7b8-bac6-4bde-8e80-28c0c2af239d",
   "metadata": {},
   "outputs": [],
   "source": [
    "df['year']=df['datetime_utc'].dt.year\n",
    "df['month']=df['datetime_utc'].dt.month"
   ]
  },
  {
   "cell_type": "code",
   "execution_count": 43,
   "id": "6e2098f6-a6c4-4132-a40e-8bb4e63377d0",
   "metadata": {},
   "outputs": [
    {
     "data": {
      "text/plain": [
       "count     100918\n",
       "unique        16\n",
       "top        North\n",
       "freq       33770\n",
       "Name: _wdire, dtype: object"
      ]
     },
     "execution_count": 43,
     "metadata": {},
     "output_type": "execute_result"
    }
   ],
   "source": [
    "df['_wdire'].describe()"
   ]
  },
  {
   "cell_type": "code",
   "execution_count": 44,
   "id": "aee35f9e-1d3e-4214-889a-c065a2a06beb",
   "metadata": {},
   "outputs": [],
   "source": [
    "df.fillna(value='North',inplace=True)"
   ]
  },
  {
   "cell_type": "code",
   "execution_count": 45,
   "id": "806e2b21-17db-473c-909b-8296aa4eda27",
   "metadata": {},
   "outputs": [],
   "source": [
    "# Converting object type to unit type i.e creating Dummies of the object type\n",
    "wdire=pd.get_dummies(df['_wdire'],drop_first=True)"
   ]
  },
  {
   "cell_type": "code",
   "execution_count": 46,
   "id": "691c476d-9c26-44af-9438-d9caae88a9e7",
   "metadata": {},
   "outputs": [
    {
     "data": {
      "text/html": [
       "<div>\n",
       "<style scoped>\n",
       "    .dataframe tbody tr th:only-of-type {\n",
       "        vertical-align: middle;\n",
       "    }\n",
       "\n",
       "    .dataframe tbody tr th {\n",
       "        vertical-align: top;\n",
       "    }\n",
       "\n",
       "    .dataframe thead th {\n",
       "        text-align: right;\n",
       "    }\n",
       "</style>\n",
       "<table border=\"1\" class=\"dataframe\">\n",
       "  <thead>\n",
       "    <tr style=\"text-align: right;\">\n",
       "      <th></th>\n",
       "      <th>ESE</th>\n",
       "      <th>East</th>\n",
       "      <th>NE</th>\n",
       "      <th>NNE</th>\n",
       "      <th>NNW</th>\n",
       "      <th>NW</th>\n",
       "      <th>North</th>\n",
       "      <th>SE</th>\n",
       "      <th>SSE</th>\n",
       "      <th>SSW</th>\n",
       "      <th>SW</th>\n",
       "      <th>South</th>\n",
       "      <th>WNW</th>\n",
       "      <th>WSW</th>\n",
       "      <th>West</th>\n",
       "    </tr>\n",
       "  </thead>\n",
       "  <tbody>\n",
       "    <tr>\n",
       "      <th>0</th>\n",
       "      <td>0</td>\n",
       "      <td>0</td>\n",
       "      <td>0</td>\n",
       "      <td>0</td>\n",
       "      <td>0</td>\n",
       "      <td>0</td>\n",
       "      <td>0</td>\n",
       "      <td>0</td>\n",
       "      <td>0</td>\n",
       "      <td>0</td>\n",
       "      <td>0</td>\n",
       "      <td>0</td>\n",
       "      <td>0</td>\n",
       "      <td>0</td>\n",
       "      <td>1</td>\n",
       "    </tr>\n",
       "    <tr>\n",
       "      <th>1</th>\n",
       "      <td>0</td>\n",
       "      <td>0</td>\n",
       "      <td>0</td>\n",
       "      <td>0</td>\n",
       "      <td>0</td>\n",
       "      <td>0</td>\n",
       "      <td>1</td>\n",
       "      <td>0</td>\n",
       "      <td>0</td>\n",
       "      <td>0</td>\n",
       "      <td>0</td>\n",
       "      <td>0</td>\n",
       "      <td>0</td>\n",
       "      <td>0</td>\n",
       "      <td>0</td>\n",
       "    </tr>\n",
       "    <tr>\n",
       "      <th>2</th>\n",
       "      <td>0</td>\n",
       "      <td>0</td>\n",
       "      <td>0</td>\n",
       "      <td>0</td>\n",
       "      <td>0</td>\n",
       "      <td>0</td>\n",
       "      <td>1</td>\n",
       "      <td>0</td>\n",
       "      <td>0</td>\n",
       "      <td>0</td>\n",
       "      <td>0</td>\n",
       "      <td>0</td>\n",
       "      <td>0</td>\n",
       "      <td>0</td>\n",
       "      <td>0</td>\n",
       "    </tr>\n",
       "    <tr>\n",
       "      <th>3</th>\n",
       "      <td>0</td>\n",
       "      <td>0</td>\n",
       "      <td>0</td>\n",
       "      <td>0</td>\n",
       "      <td>0</td>\n",
       "      <td>0</td>\n",
       "      <td>1</td>\n",
       "      <td>0</td>\n",
       "      <td>0</td>\n",
       "      <td>0</td>\n",
       "      <td>0</td>\n",
       "      <td>0</td>\n",
       "      <td>0</td>\n",
       "      <td>0</td>\n",
       "      <td>0</td>\n",
       "    </tr>\n",
       "    <tr>\n",
       "      <th>4</th>\n",
       "      <td>0</td>\n",
       "      <td>0</td>\n",
       "      <td>0</td>\n",
       "      <td>0</td>\n",
       "      <td>0</td>\n",
       "      <td>0</td>\n",
       "      <td>1</td>\n",
       "      <td>0</td>\n",
       "      <td>0</td>\n",
       "      <td>0</td>\n",
       "      <td>0</td>\n",
       "      <td>0</td>\n",
       "      <td>0</td>\n",
       "      <td>0</td>\n",
       "      <td>0</td>\n",
       "    </tr>\n",
       "    <tr>\n",
       "      <th>...</th>\n",
       "      <td>...</td>\n",
       "      <td>...</td>\n",
       "      <td>...</td>\n",
       "      <td>...</td>\n",
       "      <td>...</td>\n",
       "      <td>...</td>\n",
       "      <td>...</td>\n",
       "      <td>...</td>\n",
       "      <td>...</td>\n",
       "      <td>...</td>\n",
       "      <td>...</td>\n",
       "      <td>...</td>\n",
       "      <td>...</td>\n",
       "      <td>...</td>\n",
       "      <td>...</td>\n",
       "    </tr>\n",
       "    <tr>\n",
       "      <th>100985</th>\n",
       "      <td>0</td>\n",
       "      <td>0</td>\n",
       "      <td>0</td>\n",
       "      <td>0</td>\n",
       "      <td>0</td>\n",
       "      <td>1</td>\n",
       "      <td>0</td>\n",
       "      <td>0</td>\n",
       "      <td>0</td>\n",
       "      <td>0</td>\n",
       "      <td>0</td>\n",
       "      <td>0</td>\n",
       "      <td>0</td>\n",
       "      <td>0</td>\n",
       "      <td>0</td>\n",
       "    </tr>\n",
       "    <tr>\n",
       "      <th>100986</th>\n",
       "      <td>0</td>\n",
       "      <td>0</td>\n",
       "      <td>0</td>\n",
       "      <td>0</td>\n",
       "      <td>0</td>\n",
       "      <td>1</td>\n",
       "      <td>0</td>\n",
       "      <td>0</td>\n",
       "      <td>0</td>\n",
       "      <td>0</td>\n",
       "      <td>0</td>\n",
       "      <td>0</td>\n",
       "      <td>0</td>\n",
       "      <td>0</td>\n",
       "      <td>0</td>\n",
       "    </tr>\n",
       "    <tr>\n",
       "      <th>100987</th>\n",
       "      <td>0</td>\n",
       "      <td>0</td>\n",
       "      <td>0</td>\n",
       "      <td>0</td>\n",
       "      <td>0</td>\n",
       "      <td>0</td>\n",
       "      <td>0</td>\n",
       "      <td>0</td>\n",
       "      <td>0</td>\n",
       "      <td>0</td>\n",
       "      <td>0</td>\n",
       "      <td>0</td>\n",
       "      <td>0</td>\n",
       "      <td>0</td>\n",
       "      <td>1</td>\n",
       "    </tr>\n",
       "    <tr>\n",
       "      <th>100988</th>\n",
       "      <td>0</td>\n",
       "      <td>0</td>\n",
       "      <td>0</td>\n",
       "      <td>0</td>\n",
       "      <td>0</td>\n",
       "      <td>1</td>\n",
       "      <td>0</td>\n",
       "      <td>0</td>\n",
       "      <td>0</td>\n",
       "      <td>0</td>\n",
       "      <td>0</td>\n",
       "      <td>0</td>\n",
       "      <td>0</td>\n",
       "      <td>0</td>\n",
       "      <td>0</td>\n",
       "    </tr>\n",
       "    <tr>\n",
       "      <th>100989</th>\n",
       "      <td>0</td>\n",
       "      <td>0</td>\n",
       "      <td>0</td>\n",
       "      <td>0</td>\n",
       "      <td>0</td>\n",
       "      <td>1</td>\n",
       "      <td>0</td>\n",
       "      <td>0</td>\n",
       "      <td>0</td>\n",
       "      <td>0</td>\n",
       "      <td>0</td>\n",
       "      <td>0</td>\n",
       "      <td>0</td>\n",
       "      <td>0</td>\n",
       "      <td>0</td>\n",
       "    </tr>\n",
       "  </tbody>\n",
       "</table>\n",
       "<p>100918 rows × 15 columns</p>\n",
       "</div>"
      ],
      "text/plain": [
       "        ESE  East  NE  NNE  NNW  NW  North  SE  SSE  SSW  SW  South  WNW  WSW  \\\n",
       "0         0     0   0    0    0   0      0   0    0    0   0      0    0    0   \n",
       "1         0     0   0    0    0   0      1   0    0    0   0      0    0    0   \n",
       "2         0     0   0    0    0   0      1   0    0    0   0      0    0    0   \n",
       "3         0     0   0    0    0   0      1   0    0    0   0      0    0    0   \n",
       "4         0     0   0    0    0   0      1   0    0    0   0      0    0    0   \n",
       "...     ...   ...  ..  ...  ...  ..    ...  ..  ...  ...  ..    ...  ...  ...   \n",
       "100985    0     0   0    0    0   1      0   0    0    0   0      0    0    0   \n",
       "100986    0     0   0    0    0   1      0   0    0    0   0      0    0    0   \n",
       "100987    0     0   0    0    0   0      0   0    0    0   0      0    0    0   \n",
       "100988    0     0   0    0    0   1      0   0    0    0   0      0    0    0   \n",
       "100989    0     0   0    0    0   1      0   0    0    0   0      0    0    0   \n",
       "\n",
       "        West  \n",
       "0          1  \n",
       "1          0  \n",
       "2          0  \n",
       "3          0  \n",
       "4          0  \n",
       "...      ...  \n",
       "100985     0  \n",
       "100986     0  \n",
       "100987     1  \n",
       "100988     0  \n",
       "100989     0  \n",
       "\n",
       "[100918 rows x 15 columns]"
      ]
     },
     "execution_count": 46,
     "metadata": {},
     "output_type": "execute_result"
    }
   ],
   "source": [
    "wdire"
   ]
  },
  {
   "cell_type": "code",
   "execution_count": 47,
   "id": "091c49e7-b464-43cb-b4a5-14b4c4e1907e",
   "metadata": {},
   "outputs": [],
   "source": [
    "df=pd.concat([wdire,df],axis=1)"
   ]
  },
  {
   "cell_type": "code",
   "execution_count": 48,
   "id": "4289f6f8-726d-40d1-bc28-ed0479a4cddd",
   "metadata": {},
   "outputs": [
    {
     "data": {
      "text/html": [
       "<div>\n",
       "<style scoped>\n",
       "    .dataframe tbody tr th:only-of-type {\n",
       "        vertical-align: middle;\n",
       "    }\n",
       "\n",
       "    .dataframe tbody tr th {\n",
       "        vertical-align: top;\n",
       "    }\n",
       "\n",
       "    .dataframe thead th {\n",
       "        text-align: right;\n",
       "    }\n",
       "</style>\n",
       "<table border=\"1\" class=\"dataframe\">\n",
       "  <thead>\n",
       "    <tr style=\"text-align: right;\">\n",
       "      <th></th>\n",
       "      <th>ESE</th>\n",
       "      <th>East</th>\n",
       "      <th>NE</th>\n",
       "      <th>NNE</th>\n",
       "      <th>NNW</th>\n",
       "      <th>NW</th>\n",
       "      <th>North</th>\n",
       "      <th>SE</th>\n",
       "      <th>SSE</th>\n",
       "      <th>SSW</th>\n",
       "      <th>...</th>\n",
       "      <th>_snow</th>\n",
       "      <th>_tempm</th>\n",
       "      <th>_thunder</th>\n",
       "      <th>_tornado</th>\n",
       "      <th>_vism</th>\n",
       "      <th>_wdird</th>\n",
       "      <th>_wdire</th>\n",
       "      <th>_wspdm</th>\n",
       "      <th>year</th>\n",
       "      <th>month</th>\n",
       "    </tr>\n",
       "  </thead>\n",
       "  <tbody>\n",
       "    <tr>\n",
       "      <th>0</th>\n",
       "      <td>0</td>\n",
       "      <td>0</td>\n",
       "      <td>0</td>\n",
       "      <td>0</td>\n",
       "      <td>0</td>\n",
       "      <td>0</td>\n",
       "      <td>0</td>\n",
       "      <td>0</td>\n",
       "      <td>0</td>\n",
       "      <td>0</td>\n",
       "      <td>...</td>\n",
       "      <td>0</td>\n",
       "      <td>30.0</td>\n",
       "      <td>0</td>\n",
       "      <td>0</td>\n",
       "      <td>5.0</td>\n",
       "      <td>280.0</td>\n",
       "      <td>West</td>\n",
       "      <td>7.4</td>\n",
       "      <td>1996</td>\n",
       "      <td>11</td>\n",
       "    </tr>\n",
       "    <tr>\n",
       "      <th>1</th>\n",
       "      <td>0</td>\n",
       "      <td>0</td>\n",
       "      <td>0</td>\n",
       "      <td>0</td>\n",
       "      <td>0</td>\n",
       "      <td>0</td>\n",
       "      <td>1</td>\n",
       "      <td>0</td>\n",
       "      <td>0</td>\n",
       "      <td>0</td>\n",
       "      <td>...</td>\n",
       "      <td>0</td>\n",
       "      <td>28.0</td>\n",
       "      <td>0</td>\n",
       "      <td>0</td>\n",
       "      <td>2.0</td>\n",
       "      <td>0.0</td>\n",
       "      <td>North</td>\n",
       "      <td>7.4</td>\n",
       "      <td>1996</td>\n",
       "      <td>11</td>\n",
       "    </tr>\n",
       "    <tr>\n",
       "      <th>2</th>\n",
       "      <td>0</td>\n",
       "      <td>0</td>\n",
       "      <td>0</td>\n",
       "      <td>0</td>\n",
       "      <td>0</td>\n",
       "      <td>0</td>\n",
       "      <td>1</td>\n",
       "      <td>0</td>\n",
       "      <td>0</td>\n",
       "      <td>0</td>\n",
       "      <td>...</td>\n",
       "      <td>0</td>\n",
       "      <td>24.0</td>\n",
       "      <td>0</td>\n",
       "      <td>0</td>\n",
       "      <td>2.0</td>\n",
       "      <td>0.0</td>\n",
       "      <td>North</td>\n",
       "      <td>7.4</td>\n",
       "      <td>1996</td>\n",
       "      <td>11</td>\n",
       "    </tr>\n",
       "    <tr>\n",
       "      <th>3</th>\n",
       "      <td>0</td>\n",
       "      <td>0</td>\n",
       "      <td>0</td>\n",
       "      <td>0</td>\n",
       "      <td>0</td>\n",
       "      <td>0</td>\n",
       "      <td>1</td>\n",
       "      <td>0</td>\n",
       "      <td>0</td>\n",
       "      <td>0</td>\n",
       "      <td>...</td>\n",
       "      <td>0</td>\n",
       "      <td>24.0</td>\n",
       "      <td>0</td>\n",
       "      <td>0</td>\n",
       "      <td>2.0</td>\n",
       "      <td>0.0</td>\n",
       "      <td>North</td>\n",
       "      <td>7.4</td>\n",
       "      <td>1996</td>\n",
       "      <td>11</td>\n",
       "    </tr>\n",
       "    <tr>\n",
       "      <th>4</th>\n",
       "      <td>0</td>\n",
       "      <td>0</td>\n",
       "      <td>0</td>\n",
       "      <td>0</td>\n",
       "      <td>0</td>\n",
       "      <td>0</td>\n",
       "      <td>1</td>\n",
       "      <td>0</td>\n",
       "      <td>0</td>\n",
       "      <td>0</td>\n",
       "      <td>...</td>\n",
       "      <td>0</td>\n",
       "      <td>23.0</td>\n",
       "      <td>0</td>\n",
       "      <td>0</td>\n",
       "      <td>1.2</td>\n",
       "      <td>0.0</td>\n",
       "      <td>North</td>\n",
       "      <td>0.0</td>\n",
       "      <td>1996</td>\n",
       "      <td>11</td>\n",
       "    </tr>\n",
       "  </tbody>\n",
       "</table>\n",
       "<p>5 rows × 33 columns</p>\n",
       "</div>"
      ],
      "text/plain": [
       "   ESE  East  NE  NNE  NNW  NW  North  SE  SSE  SSW  ...  _snow  _tempm  \\\n",
       "0    0     0   0    0    0   0      0   0    0    0  ...      0    30.0   \n",
       "1    0     0   0    0    0   0      1   0    0    0  ...      0    28.0   \n",
       "2    0     0   0    0    0   0      1   0    0    0  ...      0    24.0   \n",
       "3    0     0   0    0    0   0      1   0    0    0  ...      0    24.0   \n",
       "4    0     0   0    0    0   0      1   0    0    0  ...      0    23.0   \n",
       "\n",
       "   _thunder  _tornado  _vism _wdird _wdire  _wspdm  year  month  \n",
       "0         0         0    5.0  280.0   West     7.4  1996     11  \n",
       "1         0         0    2.0    0.0  North     7.4  1996     11  \n",
       "2         0         0    2.0    0.0  North     7.4  1996     11  \n",
       "3         0         0    2.0    0.0  North     7.4  1996     11  \n",
       "4         0         0    1.2    0.0  North     0.0  1996     11  \n",
       "\n",
       "[5 rows x 33 columns]"
      ]
     },
     "execution_count": 48,
     "metadata": {},
     "output_type": "execute_result"
    }
   ],
   "source": [
    "df.head()"
   ]
  },
  {
   "cell_type": "code",
   "execution_count": 49,
   "id": "daa80738-44f8-4c67-85cb-d32c143512ea",
   "metadata": {},
   "outputs": [],
   "source": [
    "df.drop(['_wdire'],axis=1,inplace=True)"
   ]
  },
  {
   "cell_type": "code",
   "execution_count": 50,
   "id": "77ee9d95-a8db-4a04-9245-f9a7a7c1befd",
   "metadata": {},
   "outputs": [],
   "source": [
    "df.drop(['datetime_utc'],axis=1,inplace=True)"
   ]
  },
  {
   "cell_type": "code",
   "execution_count": 51,
   "id": "e1a4cc56-2478-4787-a192-86f68f778e5f",
   "metadata": {},
   "outputs": [
    {
     "data": {
      "text/plain": [
       "ESE             uint8\n",
       "East            uint8\n",
       "NE              uint8\n",
       "NNE             uint8\n",
       "NNW             uint8\n",
       "NW              uint8\n",
       "North           uint8\n",
       "SE              uint8\n",
       "SSE             uint8\n",
       "SSW             uint8\n",
       "SW              uint8\n",
       "South           uint8\n",
       "WNW             uint8\n",
       "WSW             uint8\n",
       "West            uint8\n",
       "_conds         object\n",
       "_dewptm       float64\n",
       "_fog            int64\n",
       "_hail           int64\n",
       "_hum          float64\n",
       "_pressurem    float64\n",
       "_rain           int64\n",
       "_snow           int64\n",
       "_tempm        float64\n",
       "_thunder        int64\n",
       "_tornado        int64\n",
       "_vism         float64\n",
       "_wdird        float64\n",
       "_wspdm        float64\n",
       "year            int64\n",
       "month           int64\n",
       "dtype: object"
      ]
     },
     "execution_count": 51,
     "metadata": {},
     "output_type": "execute_result"
    }
   ],
   "source": [
    "df.dtypes"
   ]
  },
  {
   "cell_type": "code",
   "execution_count": 52,
   "id": "5d9f25a4-4dd5-47ac-940d-5b604e46dae0",
   "metadata": {},
   "outputs": [
    {
     "data": {
      "text/plain": [
       "ESE           0\n",
       "East          0\n",
       "NE            0\n",
       "NNE           0\n",
       "NNW           0\n",
       "NW            0\n",
       "North         0\n",
       "SE            0\n",
       "SSE           0\n",
       "SSW           0\n",
       "SW            0\n",
       "South         0\n",
       "WNW           0\n",
       "WSW           0\n",
       "West          0\n",
       "_conds        0\n",
       "_dewptm       0\n",
       "_fog          0\n",
       "_hail         0\n",
       "_hum          0\n",
       "_pressurem    0\n",
       "_rain         0\n",
       "_snow         0\n",
       "_tempm        0\n",
       "_thunder      0\n",
       "_tornado      0\n",
       "_vism         0\n",
       "_wdird        0\n",
       "_wspdm        0\n",
       "year          0\n",
       "month         0\n",
       "dtype: int64"
      ]
     },
     "execution_count": 52,
     "metadata": {},
     "output_type": "execute_result"
    }
   ],
   "source": [
    "df.isnull().sum()"
   ]
  },
  {
   "cell_type": "markdown",
   "id": "e73d4a81-914f-454c-ac20-a4f09f0940cb",
   "metadata": {},
   "source": [
    "# 6.Spliting data into x and y"
   ]
  },
  {
   "cell_type": "code",
   "execution_count": 53,
   "id": "896b5b26-7076-43da-a663-a2eca59b607e",
   "metadata": {},
   "outputs": [
    {
     "data": {
      "text/plain": [
       "ESE             uint8\n",
       "East            uint8\n",
       "NE              uint8\n",
       "NNE             uint8\n",
       "NNW             uint8\n",
       "NW              uint8\n",
       "North           uint8\n",
       "SE              uint8\n",
       "SSE             uint8\n",
       "SSW             uint8\n",
       "SW              uint8\n",
       "South           uint8\n",
       "WNW             uint8\n",
       "WSW             uint8\n",
       "West            uint8\n",
       "_conds         object\n",
       "_dewptm       float64\n",
       "_fog            int64\n",
       "_hail           int64\n",
       "_hum          float64\n",
       "_pressurem    float64\n",
       "_rain           int64\n",
       "_snow           int64\n",
       "_tempm        float64\n",
       "_thunder        int64\n",
       "_tornado        int64\n",
       "_vism         float64\n",
       "_wdird        float64\n",
       "_wspdm        float64\n",
       "year            int64\n",
       "month           int64\n",
       "dtype: object"
      ]
     },
     "execution_count": 53,
     "metadata": {},
     "output_type": "execute_result"
    }
   ],
   "source": [
    "df.dtypes"
   ]
  },
  {
   "cell_type": "code",
   "execution_count": 54,
   "id": "1e8cd305-e197-4e16-ac9e-1101b686c886",
   "metadata": {},
   "outputs": [],
   "source": [
    "X=df.drop('_conds',axis=1)\n",
    "Y=df['_conds']"
   ]
  },
  {
   "cell_type": "code",
   "execution_count": 55,
   "id": "4c5f826f-af3f-41d0-af8b-448dd083baaa",
   "metadata": {},
   "outputs": [
    {
     "data": {
      "text/html": [
       "<div>\n",
       "<style scoped>\n",
       "    .dataframe tbody tr th:only-of-type {\n",
       "        vertical-align: middle;\n",
       "    }\n",
       "\n",
       "    .dataframe tbody tr th {\n",
       "        vertical-align: top;\n",
       "    }\n",
       "\n",
       "    .dataframe thead th {\n",
       "        text-align: right;\n",
       "    }\n",
       "</style>\n",
       "<table border=\"1\" class=\"dataframe\">\n",
       "  <thead>\n",
       "    <tr style=\"text-align: right;\">\n",
       "      <th></th>\n",
       "      <th>ESE</th>\n",
       "      <th>East</th>\n",
       "      <th>NE</th>\n",
       "      <th>NNE</th>\n",
       "      <th>NNW</th>\n",
       "      <th>NW</th>\n",
       "      <th>North</th>\n",
       "      <th>SE</th>\n",
       "      <th>SSE</th>\n",
       "      <th>SSW</th>\n",
       "      <th>...</th>\n",
       "      <th>_rain</th>\n",
       "      <th>_snow</th>\n",
       "      <th>_tempm</th>\n",
       "      <th>_thunder</th>\n",
       "      <th>_tornado</th>\n",
       "      <th>_vism</th>\n",
       "      <th>_wdird</th>\n",
       "      <th>_wspdm</th>\n",
       "      <th>year</th>\n",
       "      <th>month</th>\n",
       "    </tr>\n",
       "  </thead>\n",
       "  <tbody>\n",
       "    <tr>\n",
       "      <th>0</th>\n",
       "      <td>0</td>\n",
       "      <td>0</td>\n",
       "      <td>0</td>\n",
       "      <td>0</td>\n",
       "      <td>0</td>\n",
       "      <td>0</td>\n",
       "      <td>0</td>\n",
       "      <td>0</td>\n",
       "      <td>0</td>\n",
       "      <td>0</td>\n",
       "      <td>...</td>\n",
       "      <td>0</td>\n",
       "      <td>0</td>\n",
       "      <td>30.0</td>\n",
       "      <td>0</td>\n",
       "      <td>0</td>\n",
       "      <td>5.0</td>\n",
       "      <td>280.0</td>\n",
       "      <td>7.4</td>\n",
       "      <td>1996</td>\n",
       "      <td>11</td>\n",
       "    </tr>\n",
       "    <tr>\n",
       "      <th>1</th>\n",
       "      <td>0</td>\n",
       "      <td>0</td>\n",
       "      <td>0</td>\n",
       "      <td>0</td>\n",
       "      <td>0</td>\n",
       "      <td>0</td>\n",
       "      <td>1</td>\n",
       "      <td>0</td>\n",
       "      <td>0</td>\n",
       "      <td>0</td>\n",
       "      <td>...</td>\n",
       "      <td>0</td>\n",
       "      <td>0</td>\n",
       "      <td>28.0</td>\n",
       "      <td>0</td>\n",
       "      <td>0</td>\n",
       "      <td>2.0</td>\n",
       "      <td>0.0</td>\n",
       "      <td>7.4</td>\n",
       "      <td>1996</td>\n",
       "      <td>11</td>\n",
       "    </tr>\n",
       "    <tr>\n",
       "      <th>2</th>\n",
       "      <td>0</td>\n",
       "      <td>0</td>\n",
       "      <td>0</td>\n",
       "      <td>0</td>\n",
       "      <td>0</td>\n",
       "      <td>0</td>\n",
       "      <td>1</td>\n",
       "      <td>0</td>\n",
       "      <td>0</td>\n",
       "      <td>0</td>\n",
       "      <td>...</td>\n",
       "      <td>0</td>\n",
       "      <td>0</td>\n",
       "      <td>24.0</td>\n",
       "      <td>0</td>\n",
       "      <td>0</td>\n",
       "      <td>2.0</td>\n",
       "      <td>0.0</td>\n",
       "      <td>7.4</td>\n",
       "      <td>1996</td>\n",
       "      <td>11</td>\n",
       "    </tr>\n",
       "    <tr>\n",
       "      <th>3</th>\n",
       "      <td>0</td>\n",
       "      <td>0</td>\n",
       "      <td>0</td>\n",
       "      <td>0</td>\n",
       "      <td>0</td>\n",
       "      <td>0</td>\n",
       "      <td>1</td>\n",
       "      <td>0</td>\n",
       "      <td>0</td>\n",
       "      <td>0</td>\n",
       "      <td>...</td>\n",
       "      <td>0</td>\n",
       "      <td>0</td>\n",
       "      <td>24.0</td>\n",
       "      <td>0</td>\n",
       "      <td>0</td>\n",
       "      <td>2.0</td>\n",
       "      <td>0.0</td>\n",
       "      <td>7.4</td>\n",
       "      <td>1996</td>\n",
       "      <td>11</td>\n",
       "    </tr>\n",
       "    <tr>\n",
       "      <th>4</th>\n",
       "      <td>0</td>\n",
       "      <td>0</td>\n",
       "      <td>0</td>\n",
       "      <td>0</td>\n",
       "      <td>0</td>\n",
       "      <td>0</td>\n",
       "      <td>1</td>\n",
       "      <td>0</td>\n",
       "      <td>0</td>\n",
       "      <td>0</td>\n",
       "      <td>...</td>\n",
       "      <td>0</td>\n",
       "      <td>0</td>\n",
       "      <td>23.0</td>\n",
       "      <td>0</td>\n",
       "      <td>0</td>\n",
       "      <td>1.2</td>\n",
       "      <td>0.0</td>\n",
       "      <td>0.0</td>\n",
       "      <td>1996</td>\n",
       "      <td>11</td>\n",
       "    </tr>\n",
       "  </tbody>\n",
       "</table>\n",
       "<p>5 rows × 30 columns</p>\n",
       "</div>"
      ],
      "text/plain": [
       "   ESE  East  NE  NNE  NNW  NW  North  SE  SSE  SSW  ...  _rain  _snow  \\\n",
       "0    0     0   0    0    0   0      0   0    0    0  ...      0      0   \n",
       "1    0     0   0    0    0   0      1   0    0    0  ...      0      0   \n",
       "2    0     0   0    0    0   0      1   0    0    0  ...      0      0   \n",
       "3    0     0   0    0    0   0      1   0    0    0  ...      0      0   \n",
       "4    0     0   0    0    0   0      1   0    0    0  ...      0      0   \n",
       "\n",
       "   _tempm  _thunder  _tornado  _vism  _wdird  _wspdm  year  month  \n",
       "0    30.0         0         0    5.0   280.0     7.4  1996     11  \n",
       "1    28.0         0         0    2.0     0.0     7.4  1996     11  \n",
       "2    24.0         0         0    2.0     0.0     7.4  1996     11  \n",
       "3    24.0         0         0    2.0     0.0     7.4  1996     11  \n",
       "4    23.0         0         0    1.2     0.0     0.0  1996     11  \n",
       "\n",
       "[5 rows x 30 columns]"
      ]
     },
     "execution_count": 55,
     "metadata": {},
     "output_type": "execute_result"
    }
   ],
   "source": [
    "X.head()"
   ]
  },
  {
   "cell_type": "code",
   "execution_count": 56,
   "id": "6c3d4533-f285-4db8-95dd-aa929963fc35",
   "metadata": {},
   "outputs": [
    {
     "data": {
      "text/plain": [
       "0    Smoke\n",
       "1    Smoke\n",
       "2    Smoke\n",
       "3    Smoke\n",
       "4    Smoke\n",
       "Name: _conds, dtype: object"
      ]
     },
     "execution_count": 56,
     "metadata": {},
     "output_type": "execute_result"
    }
   ],
   "source": [
    "Y.head()"
   ]
  },
  {
   "cell_type": "markdown",
   "id": "2220f22d-2df1-4023-9035-8c35873b4314",
   "metadata": {},
   "source": [
    "# 7.Train Test Split"
   ]
  },
  {
   "cell_type": "code",
   "execution_count": 57,
   "id": "dd6d0d9f-415f-4b4f-873c-dc71882f8a2b",
   "metadata": {},
   "outputs": [],
   "source": [
    "from sklearn.model_selection import train_test_split\n",
    "X_train, X_test, Y_train, Y_test= train_test_split(X, Y, test_size=0.3, random_state = 100)"
   ]
  },
  {
   "cell_type": "code",
   "execution_count": 58,
   "id": "2359d6ed-b0ff-4ee3-87e3-f4fab0931ef9",
   "metadata": {},
   "outputs": [
    {
     "name": "stdout",
     "output_type": "stream",
     "text": [
      "(70642, 30)\n",
      "(70642,)\n",
      "(30276, 30)\n",
      "(30276,)\n"
     ]
    }
   ],
   "source": [
    "print(X_train.shape)\n",
    "print(Y_train.shape)\n",
    "print(X_test.shape)\n",
    "print(Y_test.shape)"
   ]
  },
  {
   "cell_type": "code",
   "execution_count": 59,
   "id": "766f6a90-2fdc-4749-83d9-5db682877d64",
   "metadata": {},
   "outputs": [
    {
     "data": {
      "text/html": [
       "<div>\n",
       "<style scoped>\n",
       "    .dataframe tbody tr th:only-of-type {\n",
       "        vertical-align: middle;\n",
       "    }\n",
       "\n",
       "    .dataframe tbody tr th {\n",
       "        vertical-align: top;\n",
       "    }\n",
       "\n",
       "    .dataframe thead th {\n",
       "        text-align: right;\n",
       "    }\n",
       "</style>\n",
       "<table border=\"1\" class=\"dataframe\">\n",
       "  <thead>\n",
       "    <tr style=\"text-align: right;\">\n",
       "      <th></th>\n",
       "      <th>ESE</th>\n",
       "      <th>East</th>\n",
       "      <th>NE</th>\n",
       "      <th>NNE</th>\n",
       "      <th>NNW</th>\n",
       "      <th>NW</th>\n",
       "      <th>North</th>\n",
       "      <th>SE</th>\n",
       "      <th>SSE</th>\n",
       "      <th>SSW</th>\n",
       "      <th>...</th>\n",
       "      <th>_rain</th>\n",
       "      <th>_snow</th>\n",
       "      <th>_tempm</th>\n",
       "      <th>_thunder</th>\n",
       "      <th>_tornado</th>\n",
       "      <th>_vism</th>\n",
       "      <th>_wdird</th>\n",
       "      <th>_wspdm</th>\n",
       "      <th>year</th>\n",
       "      <th>month</th>\n",
       "    </tr>\n",
       "  </thead>\n",
       "  <tbody>\n",
       "    <tr>\n",
       "      <th>0</th>\n",
       "      <td>0</td>\n",
       "      <td>0</td>\n",
       "      <td>0</td>\n",
       "      <td>0</td>\n",
       "      <td>0</td>\n",
       "      <td>0</td>\n",
       "      <td>0</td>\n",
       "      <td>0</td>\n",
       "      <td>0</td>\n",
       "      <td>0</td>\n",
       "      <td>...</td>\n",
       "      <td>0</td>\n",
       "      <td>0</td>\n",
       "      <td>30.0</td>\n",
       "      <td>0</td>\n",
       "      <td>0</td>\n",
       "      <td>5.0</td>\n",
       "      <td>280.0</td>\n",
       "      <td>7.4</td>\n",
       "      <td>1996</td>\n",
       "      <td>11</td>\n",
       "    </tr>\n",
       "    <tr>\n",
       "      <th>1</th>\n",
       "      <td>0</td>\n",
       "      <td>0</td>\n",
       "      <td>0</td>\n",
       "      <td>0</td>\n",
       "      <td>0</td>\n",
       "      <td>0</td>\n",
       "      <td>1</td>\n",
       "      <td>0</td>\n",
       "      <td>0</td>\n",
       "      <td>0</td>\n",
       "      <td>...</td>\n",
       "      <td>0</td>\n",
       "      <td>0</td>\n",
       "      <td>28.0</td>\n",
       "      <td>0</td>\n",
       "      <td>0</td>\n",
       "      <td>2.0</td>\n",
       "      <td>0.0</td>\n",
       "      <td>7.4</td>\n",
       "      <td>1996</td>\n",
       "      <td>11</td>\n",
       "    </tr>\n",
       "    <tr>\n",
       "      <th>2</th>\n",
       "      <td>0</td>\n",
       "      <td>0</td>\n",
       "      <td>0</td>\n",
       "      <td>0</td>\n",
       "      <td>0</td>\n",
       "      <td>0</td>\n",
       "      <td>1</td>\n",
       "      <td>0</td>\n",
       "      <td>0</td>\n",
       "      <td>0</td>\n",
       "      <td>...</td>\n",
       "      <td>0</td>\n",
       "      <td>0</td>\n",
       "      <td>24.0</td>\n",
       "      <td>0</td>\n",
       "      <td>0</td>\n",
       "      <td>2.0</td>\n",
       "      <td>0.0</td>\n",
       "      <td>7.4</td>\n",
       "      <td>1996</td>\n",
       "      <td>11</td>\n",
       "    </tr>\n",
       "    <tr>\n",
       "      <th>3</th>\n",
       "      <td>0</td>\n",
       "      <td>0</td>\n",
       "      <td>0</td>\n",
       "      <td>0</td>\n",
       "      <td>0</td>\n",
       "      <td>0</td>\n",
       "      <td>1</td>\n",
       "      <td>0</td>\n",
       "      <td>0</td>\n",
       "      <td>0</td>\n",
       "      <td>...</td>\n",
       "      <td>0</td>\n",
       "      <td>0</td>\n",
       "      <td>24.0</td>\n",
       "      <td>0</td>\n",
       "      <td>0</td>\n",
       "      <td>2.0</td>\n",
       "      <td>0.0</td>\n",
       "      <td>7.4</td>\n",
       "      <td>1996</td>\n",
       "      <td>11</td>\n",
       "    </tr>\n",
       "    <tr>\n",
       "      <th>4</th>\n",
       "      <td>0</td>\n",
       "      <td>0</td>\n",
       "      <td>0</td>\n",
       "      <td>0</td>\n",
       "      <td>0</td>\n",
       "      <td>0</td>\n",
       "      <td>1</td>\n",
       "      <td>0</td>\n",
       "      <td>0</td>\n",
       "      <td>0</td>\n",
       "      <td>...</td>\n",
       "      <td>0</td>\n",
       "      <td>0</td>\n",
       "      <td>23.0</td>\n",
       "      <td>0</td>\n",
       "      <td>0</td>\n",
       "      <td>1.2</td>\n",
       "      <td>0.0</td>\n",
       "      <td>0.0</td>\n",
       "      <td>1996</td>\n",
       "      <td>11</td>\n",
       "    </tr>\n",
       "  </tbody>\n",
       "</table>\n",
       "<p>5 rows × 31 columns</p>\n",
       "</div>"
      ],
      "text/plain": [
       "   ESE  East  NE  NNE  NNW  NW  North  SE  SSE  SSW  ...  _rain  _snow  \\\n",
       "0    0     0   0    0    0   0      0   0    0    0  ...      0      0   \n",
       "1    0     0   0    0    0   0      1   0    0    0  ...      0      0   \n",
       "2    0     0   0    0    0   0      1   0    0    0  ...      0      0   \n",
       "3    0     0   0    0    0   0      1   0    0    0  ...      0      0   \n",
       "4    0     0   0    0    0   0      1   0    0    0  ...      0      0   \n",
       "\n",
       "   _tempm  _thunder  _tornado _vism  _wdird  _wspdm  year  month  \n",
       "0    30.0         0         0   5.0   280.0     7.4  1996     11  \n",
       "1    28.0         0         0   2.0     0.0     7.4  1996     11  \n",
       "2    24.0         0         0   2.0     0.0     7.4  1996     11  \n",
       "3    24.0         0         0   2.0     0.0     7.4  1996     11  \n",
       "4    23.0         0         0   1.2     0.0     0.0  1996     11  \n",
       "\n",
       "[5 rows x 31 columns]"
      ]
     },
     "execution_count": 59,
     "metadata": {},
     "output_type": "execute_result"
    }
   ],
   "source": [
    "df.head()"
   ]
  },
  {
   "cell_type": "code",
   "execution_count": 60,
   "id": "d95cb05d-1981-4cbd-80b4-01db52918b68",
   "metadata": {},
   "outputs": [
    {
     "data": {
      "text/html": [
       "<div>\n",
       "<style scoped>\n",
       "    .dataframe tbody tr th:only-of-type {\n",
       "        vertical-align: middle;\n",
       "    }\n",
       "\n",
       "    .dataframe tbody tr th {\n",
       "        vertical-align: top;\n",
       "    }\n",
       "\n",
       "    .dataframe thead th {\n",
       "        text-align: right;\n",
       "    }\n",
       "</style>\n",
       "<table border=\"1\" class=\"dataframe\">\n",
       "  <thead>\n",
       "    <tr style=\"text-align: right;\">\n",
       "      <th></th>\n",
       "      <th>ESE</th>\n",
       "      <th>East</th>\n",
       "      <th>NE</th>\n",
       "      <th>NNE</th>\n",
       "      <th>NNW</th>\n",
       "      <th>NW</th>\n",
       "      <th>North</th>\n",
       "      <th>SE</th>\n",
       "      <th>SSE</th>\n",
       "      <th>SSW</th>\n",
       "      <th>...</th>\n",
       "      <th>_rain</th>\n",
       "      <th>_snow</th>\n",
       "      <th>_tempm</th>\n",
       "      <th>_thunder</th>\n",
       "      <th>_tornado</th>\n",
       "      <th>_vism</th>\n",
       "      <th>_wdird</th>\n",
       "      <th>_wspdm</th>\n",
       "      <th>year</th>\n",
       "      <th>month</th>\n",
       "    </tr>\n",
       "  </thead>\n",
       "  <tbody>\n",
       "    <tr>\n",
       "      <th>0</th>\n",
       "      <td>0</td>\n",
       "      <td>0</td>\n",
       "      <td>0</td>\n",
       "      <td>0</td>\n",
       "      <td>0</td>\n",
       "      <td>0</td>\n",
       "      <td>0</td>\n",
       "      <td>0</td>\n",
       "      <td>0</td>\n",
       "      <td>0</td>\n",
       "      <td>...</td>\n",
       "      <td>0</td>\n",
       "      <td>0</td>\n",
       "      <td>30.0</td>\n",
       "      <td>0</td>\n",
       "      <td>0</td>\n",
       "      <td>5.0</td>\n",
       "      <td>280.0</td>\n",
       "      <td>7.4</td>\n",
       "      <td>1996</td>\n",
       "      <td>11</td>\n",
       "    </tr>\n",
       "    <tr>\n",
       "      <th>1</th>\n",
       "      <td>0</td>\n",
       "      <td>0</td>\n",
       "      <td>0</td>\n",
       "      <td>0</td>\n",
       "      <td>0</td>\n",
       "      <td>0</td>\n",
       "      <td>1</td>\n",
       "      <td>0</td>\n",
       "      <td>0</td>\n",
       "      <td>0</td>\n",
       "      <td>...</td>\n",
       "      <td>0</td>\n",
       "      <td>0</td>\n",
       "      <td>28.0</td>\n",
       "      <td>0</td>\n",
       "      <td>0</td>\n",
       "      <td>2.0</td>\n",
       "      <td>0.0</td>\n",
       "      <td>7.4</td>\n",
       "      <td>1996</td>\n",
       "      <td>11</td>\n",
       "    </tr>\n",
       "    <tr>\n",
       "      <th>2</th>\n",
       "      <td>0</td>\n",
       "      <td>0</td>\n",
       "      <td>0</td>\n",
       "      <td>0</td>\n",
       "      <td>0</td>\n",
       "      <td>0</td>\n",
       "      <td>1</td>\n",
       "      <td>0</td>\n",
       "      <td>0</td>\n",
       "      <td>0</td>\n",
       "      <td>...</td>\n",
       "      <td>0</td>\n",
       "      <td>0</td>\n",
       "      <td>24.0</td>\n",
       "      <td>0</td>\n",
       "      <td>0</td>\n",
       "      <td>2.0</td>\n",
       "      <td>0.0</td>\n",
       "      <td>7.4</td>\n",
       "      <td>1996</td>\n",
       "      <td>11</td>\n",
       "    </tr>\n",
       "    <tr>\n",
       "      <th>3</th>\n",
       "      <td>0</td>\n",
       "      <td>0</td>\n",
       "      <td>0</td>\n",
       "      <td>0</td>\n",
       "      <td>0</td>\n",
       "      <td>0</td>\n",
       "      <td>1</td>\n",
       "      <td>0</td>\n",
       "      <td>0</td>\n",
       "      <td>0</td>\n",
       "      <td>...</td>\n",
       "      <td>0</td>\n",
       "      <td>0</td>\n",
       "      <td>24.0</td>\n",
       "      <td>0</td>\n",
       "      <td>0</td>\n",
       "      <td>2.0</td>\n",
       "      <td>0.0</td>\n",
       "      <td>7.4</td>\n",
       "      <td>1996</td>\n",
       "      <td>11</td>\n",
       "    </tr>\n",
       "    <tr>\n",
       "      <th>4</th>\n",
       "      <td>0</td>\n",
       "      <td>0</td>\n",
       "      <td>0</td>\n",
       "      <td>0</td>\n",
       "      <td>0</td>\n",
       "      <td>0</td>\n",
       "      <td>1</td>\n",
       "      <td>0</td>\n",
       "      <td>0</td>\n",
       "      <td>0</td>\n",
       "      <td>...</td>\n",
       "      <td>0</td>\n",
       "      <td>0</td>\n",
       "      <td>23.0</td>\n",
       "      <td>0</td>\n",
       "      <td>0</td>\n",
       "      <td>1.2</td>\n",
       "      <td>0.0</td>\n",
       "      <td>0.0</td>\n",
       "      <td>1996</td>\n",
       "      <td>11</td>\n",
       "    </tr>\n",
       "  </tbody>\n",
       "</table>\n",
       "<p>5 rows × 30 columns</p>\n",
       "</div>"
      ],
      "text/plain": [
       "   ESE  East  NE  NNE  NNW  NW  North  SE  SSE  SSW  ...  _rain  _snow  \\\n",
       "0    0     0   0    0    0   0      0   0    0    0  ...      0      0   \n",
       "1    0     0   0    0    0   0      1   0    0    0  ...      0      0   \n",
       "2    0     0   0    0    0   0      1   0    0    0  ...      0      0   \n",
       "3    0     0   0    0    0   0      1   0    0    0  ...      0      0   \n",
       "4    0     0   0    0    0   0      1   0    0    0  ...      0      0   \n",
       "\n",
       "   _tempm  _thunder  _tornado  _vism  _wdird  _wspdm  year  month  \n",
       "0    30.0         0         0    5.0   280.0     7.4  1996     11  \n",
       "1    28.0         0         0    2.0     0.0     7.4  1996     11  \n",
       "2    24.0         0         0    2.0     0.0     7.4  1996     11  \n",
       "3    24.0         0         0    2.0     0.0     7.4  1996     11  \n",
       "4    23.0         0         0    1.2     0.0     0.0  1996     11  \n",
       "\n",
       "[5 rows x 30 columns]"
      ]
     },
     "execution_count": 60,
     "metadata": {},
     "output_type": "execute_result"
    }
   ],
   "source": [
    "X.head()"
   ]
  },
  {
   "cell_type": "markdown",
   "id": "4ee62608-988a-43b7-8977-4d6685016ea1",
   "metadata": {},
   "source": [
    "# 8.Model Building"
   ]
  },
  {
   "cell_type": "markdown",
   "id": "6c3969b3-506a-41c8-9321-37abb85e42c4",
   "metadata": {
    "tags": []
   },
   "source": [
    "## Model 1.LogisticRegression"
   ]
  },
  {
   "cell_type": "code",
   "execution_count": 61,
   "id": "22dd9733-a187-4096-bcff-c39b15561bce",
   "metadata": {},
   "outputs": [
    {
     "data": {
      "text/plain": [
       "LogisticRegression()"
      ]
     },
     "execution_count": 61,
     "metadata": {},
     "output_type": "execute_result"
    }
   ],
   "source": [
    "from sklearn.linear_model import LogisticRegression\n",
    "logi_model=LogisticRegression()\n",
    "logi_model.fit(X_train,Y_train)"
   ]
  },
  {
   "cell_type": "code",
   "execution_count": 62,
   "id": "3786afb0-5080-4161-8759-91d4bc94faf9",
   "metadata": {},
   "outputs": [
    {
     "name": "stdout",
     "output_type": "stream",
     "text": [
      "Logistic Regression Model Score 56.313524532148016\n"
     ]
    }
   ],
   "source": [
    "print('Logistic Regression Model Score',logi_model.score(X_train,Y_train)*100)"
   ]
  },
  {
   "cell_type": "markdown",
   "id": "dab33a3b-b191-406b-b549-4c105ec5f2c6",
   "metadata": {},
   "source": [
    "## Model 2.Decision Tree Classifier"
   ]
  },
  {
   "cell_type": "code",
   "execution_count": 63,
   "id": "5eb91e16-bb53-41ca-bb63-263d2d88f610",
   "metadata": {},
   "outputs": [
    {
     "data": {
      "text/plain": [
       "DecisionTreeClassifier()"
      ]
     },
     "execution_count": 63,
     "metadata": {},
     "output_type": "execute_result"
    }
   ],
   "source": [
    "from sklearn.tree import DecisionTreeClassifier\n",
    "dt=DecisionTreeClassifier()\n",
    "dt.fit(X_train,Y_train)"
   ]
  },
  {
   "cell_type": "code",
   "execution_count": 64,
   "id": "51b0f420-8692-46a2-9da1-49346ac847f6",
   "metadata": {},
   "outputs": [],
   "source": [
    "Y_pred=dt.predict(X_test)"
   ]
  },
  {
   "cell_type": "code",
   "execution_count": 65,
   "id": "e4002e05-f206-4d08-9722-e4916b4a66e7",
   "metadata": {},
   "outputs": [],
   "source": [
    "from sklearn.metrics import accuracy_score\n",
    "daccuracy = accuracy_score(Y_test, Y_pred)"
   ]
  },
  {
   "cell_type": "code",
   "execution_count": 66,
   "id": "fe7d1edd-408f-4baa-a590-92860f879b45",
   "metadata": {},
   "outputs": [
    {
     "name": "stdout",
     "output_type": "stream",
     "text": [
      "accuracy of the model using Random Forest Classifier is 82.72929052715023\n"
     ]
    }
   ],
   "source": [
    "print(\"accuracy of the model using Random Forest Classifier is\",(daccuracy*102))"
   ]
  },
  {
   "cell_type": "markdown",
   "id": "ec25f591-076a-4585-94f3-4d58d47a1f83",
   "metadata": {},
   "source": [
    "## Model 3. Random Forest Classifier"
   ]
  },
  {
   "cell_type": "code",
   "execution_count": 67,
   "id": "4659d2dc-186f-4ce9-b488-bb090941ee52",
   "metadata": {},
   "outputs": [
    {
     "data": {
      "text/plain": [
       "RandomForestClassifier()"
      ]
     },
     "execution_count": 67,
     "metadata": {},
     "output_type": "execute_result"
    }
   ],
   "source": [
    "from sklearn.ensemble import RandomForestClassifier\n",
    "rf=RandomForestClassifier()\n",
    "rf.fit(X_train,Y_train)"
   ]
  },
  {
   "cell_type": "code",
   "execution_count": 68,
   "id": "d2ba65a4-ec0c-46cf-96ec-77b9c770a6db",
   "metadata": {},
   "outputs": [],
   "source": [
    "Y_pred=rf.predict(X_test)"
   ]
  },
  {
   "cell_type": "code",
   "execution_count": 69,
   "id": "ff23a32e-d479-47d0-9894-20fb57de09e4",
   "metadata": {},
   "outputs": [],
   "source": [
    "from sklearn.metrics import accuracy_score\n",
    "accuracy = accuracy_score(Y_test, Y_pred)"
   ]
  },
  {
   "cell_type": "code",
   "execution_count": 70,
   "id": "a24eb922-3d01-413e-a4f1-37741bf3343b",
   "metadata": {},
   "outputs": [
    {
     "name": "stdout",
     "output_type": "stream",
     "text": [
      "accuracy of the model using Random Forest Classifier is 91.52985863390144\n"
     ]
    }
   ],
   "source": [
    "print(\"accuracy of the model using Random Forest Classifier is\",(accuracy*106))"
   ]
  },
  {
   "cell_type": "markdown",
   "id": "bd9e261d-2493-4350-a9b4-72d9bad0fadc",
   "metadata": {},
   "source": [
    "# 10.Importance Features"
   ]
  },
  {
   "cell_type": "code",
   "execution_count": 71,
   "id": "b12a3673-dad0-4ed5-bea4-db50f05ba48c",
   "metadata": {},
   "outputs": [
    {
     "data": {
      "image/png": "[encoded data removed]",
      "text/plain": [
       "<Figure size 1440x720 with 1 Axes>"
      ]
     },
     "metadata": {
      "needs_background": "light"
     },
     "output_type": "display_data"
    }
   ],
   "source": [
    "imp = pd.Series(rf.feature_importances_,index=X.columns).sort_values()\n",
    "plt.figure(figsize=(20,10))\n",
    "imp.plot.bar()\n",
    "plt.show()"
   ]
  },
  {
   "cell_type": "code",
   "execution_count": null,
   "id": "4f76e283-dfae-4a1c-97a3-b53c75aa62a4",
   "metadata": {},
   "outputs": [],
   "source": []
  },
  {
   "cell_type": "code",
   "execution_count": null,
   "id": "b656b3e2-c0d5-4cf7-8879-f411d5f43ab4",
   "metadata": {},
   "outputs": [],
   "source": []
  }
 ],
 "metadata": {
  "kernelspec": {
   "display_name": "Python 3 (ipykernel)",
   "language": "python",
   "name": "python3"
  },
  "language_info": {
   "codemirror_mode": {
    "name": "ipython",
    "version": 3
   },
   "file_extension": ".py",
   "mimetype": "text/x-python",
   "name": "python",
   "nbconvert_exporter": "python",
   "pygments_lexer": "ipython3",
   "version": "3.9.7"
  }
 },
 "nbformat": 4,
 "nbformat_minor": 5
}
